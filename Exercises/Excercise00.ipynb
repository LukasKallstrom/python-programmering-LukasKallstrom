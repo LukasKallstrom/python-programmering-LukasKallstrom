{
 "cells": [
  {
   "cell_type": "markdown",
   "source": [
    "# 1. Pythagorean Theorem"
   ],
   "metadata": {}
  },
  {
   "cell_type": "markdown",
   "source": [
    "## A)"
   ],
   "metadata": {}
  },
  {
   "cell_type": "code",
   "execution_count": 1,
   "source": [
    "import math\r\n",
    "cathet_a = 3\r\n",
    "cathet_b = 4\r\n",
    "\r\n",
    "hypothenuse = math.sqrt(cathet_a**2 + cathet_b**2)\r\n",
    "print(hypothenuse)"
   ],
   "outputs": [
    {
     "output_type": "stream",
     "name": "stdout",
     "text": [
      "5.0\n"
     ]
    }
   ],
   "metadata": {}
  },
  {
   "cell_type": "markdown",
   "source": [
    "## B)"
   ],
   "metadata": {}
  },
  {
   "cell_type": "code",
   "execution_count": 2,
   "source": [
    "cathet_a = 5.0\r\n",
    "hypothenuse = 7.0\r\n",
    "\r\n",
    "cathet_b = math.sqrt(hypothenuse**2 - cathet_a**2)\r\n",
    "print(f\"{cathet_b:.1f}\")"
   ],
   "outputs": [
    {
     "output_type": "stream",
     "name": "stdout",
     "text": [
      "4.9\n"
     ]
    }
   ],
   "metadata": {}
  },
  {
   "cell_type": "markdown",
   "source": [
    "# 2. Classification accuracy"
   ],
   "metadata": {}
  },
  {
   "cell_type": "code",
   "execution_count": 10,
   "source": [
    "predictions = 365\r\n",
    "correct_guesses = 300\r\n",
    "\r\n",
    "accuracy = (300/365)*100\r\n",
    "print(f\"Model accuracy: {accuracy:.1f}%\")"
   ],
   "outputs": [
    {
     "output_type": "stream",
     "name": "stdout",
     "text": [
      "Model accuracy: 82.2%\n"
     ]
    }
   ],
   "metadata": {}
  },
  {
   "cell_type": "markdown",
   "source": [
    "# 3. CLassification accuracy"
   ],
   "metadata": {}
  },
  {
   "cell_type": "code",
   "execution_count": null,
   "source": [
    "true_positive = 2\r\n",
    "true_negative = 11\r\n",
    "false_positive = 2\r\n",
    "false_negative = 985\r\n",
    "\r\n",
    "accuracy = ()"
   ],
   "outputs": [],
   "metadata": {}
  }
 ],
 "metadata": {
  "orig_nbformat": 4,
  "language_info": {
   "name": "python",
   "version": "3.9.6",
   "mimetype": "text/x-python",
   "codemirror_mode": {
    "name": "ipython",
    "version": 3
   },
   "pygments_lexer": "ipython3",
   "nbconvert_exporter": "python",
   "file_extension": ".py"
  },
  "kernelspec": {
   "name": "python3",
   "display_name": "Python 3.9.6 64-bit"
  },
  "interpreter": {
   "hash": "0359460f700e627ce88dedeb970a7aa5e04676b9f54c2a233cb78f4fa5dbc6e6"
  }
 },
 "nbformat": 4,
 "nbformat_minor": 2
}