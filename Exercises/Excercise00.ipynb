{
 "cells": [
  {
   "cell_type": "markdown",
   "source": [
    "# 1. Pythagorean Theorem"
   ],
   "metadata": {}
  },
  {
   "cell_type": "markdown",
   "source": [
    "## A)"
   ],
   "metadata": {}
  },
  {
   "cell_type": "code",
   "execution_count": 35,
   "source": [
    "import math\r\n",
    "cathet_a = 3\r\n",
    "cathet_b = 4\r\n",
    "\r\n",
    "hypothenuse = math.sqrt(cathet_a**2 + cathet_b**2)\r\n",
    "print(hypothenuse)"
   ],
   "outputs": [
    {
     "output_type": "stream",
     "name": "stdout",
     "text": [
      "5.0\n"
     ]
    }
   ],
   "metadata": {}
  },
  {
   "cell_type": "markdown",
   "source": [
    "## B)"
   ],
   "metadata": {}
  },
  {
   "cell_type": "code",
   "execution_count": 2,
   "source": [
    "cathet_a = 5.0\r\n",
    "hypothenuse = 7.0\r\n",
    "\r\n",
    "cathet_b = math.sqrt(hypothenuse**2 - cathet_a**2)\r\n",
    "print(f\"{cathet_b:.1f}\")"
   ],
   "outputs": [
    {
     "output_type": "stream",
     "name": "stdout",
     "text": [
      "4.9\n"
     ]
    }
   ],
   "metadata": {}
  },
  {
   "cell_type": "markdown",
   "source": [
    "# 2. Classification accuracy"
   ],
   "metadata": {}
  },
  {
   "cell_type": "code",
   "execution_count": 10,
   "source": [
    "predictions = 365\r\n",
    "correct_guesses = 300\r\n",
    "\r\n",
    "accuracy = (300/365)*100\r\n",
    "print(f\"Model accuracy: {accuracy:.1f}%\")"
   ],
   "outputs": [
    {
     "output_type": "stream",
     "name": "stdout",
     "text": [
      "Model accuracy: 82.2%\n"
     ]
    }
   ],
   "metadata": {}
  },
  {
   "cell_type": "markdown",
   "source": [
    "# 3. CLassification accuracy"
   ],
   "metadata": {}
  },
  {
   "cell_type": "code",
   "execution_count": 14,
   "source": [
    "true_positive = 2\r\n",
    "true_negative = 11\r\n",
    "false_positive = 2\r\n",
    "false_negative = 985\r\n",
    "\r\n",
    "accuracy = 100 * (true_positive + true_negative) / (true_positive + true_negative + false_positive + false_negative)\r\n",
    "print(f\"Accuracy: {accuracy}%\")\r\n",
    "# This model is not accurate"
   ],
   "outputs": [
    {
     "output_type": "stream",
     "name": "stdout",
     "text": [
      "Accuracy: 1.3%\n"
     ]
    }
   ],
   "metadata": {}
  },
  {
   "cell_type": "markdown",
   "source": [
    "# 4. Line"
   ],
   "metadata": {}
  },
  {
   "cell_type": "code",
   "execution_count": 17,
   "source": [
    "cathet_a = 4\r\n",
    "cathet_b = 4 -1\r\n",
    "\r\n",
    "hypothenuse = math.sqrt(cathet_a**2 + cathet_b**2)\r\n",
    "print(f\"Slope/k = {hypothenuse} and m = {cathet_b}\")"
   ],
   "outputs": [
    {
     "output_type": "stream",
     "name": "stdout",
     "text": [
      "Slope/k = 5.0 and m = 3\n"
     ]
    }
   ],
   "metadata": {}
  },
  {
   "cell_type": "markdown",
   "source": [
    "# 5. Euclidian distance"
   ],
   "metadata": {}
  },
  {
   "cell_type": "code",
   "execution_count": 28,
   "source": [
    "cathet_a = 3+2\r\n",
    "cathet_b = 5-4\r\n",
    "hypothenuse = math.sqrt(cathet_a**2 + cathet_b**2)\r\n",
    "\r\n",
    "print(f\"Distance between coordinates: {hypothenuse:.1f}\")\r\n"
   ],
   "outputs": [
    {
     "output_type": "stream",
     "name": "stdout",
     "text": [
      "Distance between coordinates: 5.1\n"
     ]
    }
   ],
   "metadata": {}
  },
  {
   "cell_type": "markdown",
   "source": [
    "# 6. Euclidean distance in 3D"
   ],
   "metadata": {}
  },
  {
   "cell_type": "code",
   "execution_count": 34,
   "source": [
    "# I calculate the distance using the formula\r\n",
    "#  d = ((x1 - x2)**2 + (y1 - y2)**2 + (z1 - z2)**2)**1/2\r\n",
    "\r\n",
    "point_a = [2 , 1, 4]\r\n",
    "point_b = [3, 1, 0]\r\n",
    "distance = math.sqrt(((point_a[0])- point_b[0])**2+(point_a[1]- point_b[1])**2+(point_a[2]- point_b[2])**2)\r\n",
    "\r\n",
    "print(f\"Distance between coordinates: {distance:.4f}\")"
   ],
   "outputs": [
    {
     "output_type": "stream",
     "name": "stdout",
     "text": [
      "Distance between coordinates: 4.1231\n"
     ]
    }
   ],
   "metadata": {}
  }
 ],
 "metadata": {
  "orig_nbformat": 4,
  "language_info": {
   "name": "python",
   "version": "3.9.6",
   "mimetype": "text/x-python",
   "codemirror_mode": {
    "name": "ipython",
    "version": 3
   },
   "pygments_lexer": "ipython3",
   "nbconvert_exporter": "python",
   "file_extension": ".py"
  },
  "kernelspec": {
   "name": "python3",
   "display_name": "Python 3.9.6 64-bit"
  },
  "interpreter": {
   "hash": "0359460f700e627ce88dedeb970a7aa5e04676b9f54c2a233cb78f4fa5dbc6e6"
  }
 },
 "nbformat": 4,
 "nbformat_minor": 2
}