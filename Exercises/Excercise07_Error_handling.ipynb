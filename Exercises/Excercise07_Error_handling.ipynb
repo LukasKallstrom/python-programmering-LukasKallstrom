{
 "cells": [
  {
   "cell_type": "markdown",
   "source": [
    "# 1. Find errors"
   ],
   "metadata": {}
  },
  {
   "cell_type": "code",
   "execution_count": 5,
   "source": [
    "\"\"\"\r\n",
    "impor numpy as np\r\n",
    "\r\n",
    "def distance(x,y)\r\n",
    "    reurn np.sqrt(x+y)\r\n",
    "\r\n",
    "print(distance([0.5, 0.5]))\r\n",
    "\"\"\"\r\n",
    "import numpy as np  # added t to impor\r\n",
    "\r\n",
    "def distance(x,y):\r\n",
    "    return np.sqrt((x**2)+(y**2)) # formula was wrong\r\n",
    "\r\n",
    "print(distance(0.5, 0.5)) # changed from a list to 2 values, x and y\r\n"
   ],
   "outputs": [
    {
     "output_type": "stream",
     "name": "stdout",
     "text": [
      "0.7071067811865476\n"
     ]
    }
   ],
   "metadata": {}
  },
  {
   "cell_type": "markdown",
   "source": [
    "# 2. Find errors"
   ],
   "metadata": {}
  },
  {
   "cell_type": "code",
   "execution_count": 16,
   "source": [
    "import math\r\n",
    "\r\n",
    "def is_fourdigit(number):\r\n",
    "    if  (999 < number and number < 10000) or (-999 > number and number > -10000):\r\n",
    "        return True\r\n",
    "    else:\r\n",
    "        return False\r\n",
    "\r\n",
    "# test program\r\n",
    "test_numbers = [231, 3124, -4124, -1000,-999, 1001, 10000, -10000, 999]\r\n",
    "\r\n",
    "for number in test_numbers:\r\n",
    "    if is_fourdigit(number):\r\n",
    "        print(f\"{number} is four-digit\")\r\n",
    "    else:\r\n",
    "        print(f\"{number} is not four-digit\")"
   ],
   "outputs": [
    {
     "output_type": "stream",
     "name": "stdout",
     "text": [
      "231 is not four-digit\n",
      "3124 is four-digit\n",
      "-4124 is four-digit\n",
      "-1000 is four-digit\n",
      "-999 is not four-digit\n",
      "1001 is four-digit\n",
      "10000 is not four-digit\n",
      "-10000 is not four-digit\n",
      "999 is not four-digit\n"
     ]
    }
   ],
   "metadata": {}
  },
  {
   "cell_type": "markdown",
   "source": [
    "# 3. Tram cost"
   ],
   "metadata": {}
  },
  {
   "cell_type": "code",
   "execution_count": 4,
   "source": [
    "ticket_cost = 45\r\n",
    "month_cost = 1290\r\n",
    "print(f\"Cost of single ticket: {ticket_cost}kr\")\r\n",
    "print(f\"Cost of montly card: {month_cost}kr\")\r\n",
    "\r\n",
    "while 1:\r\n",
    "    try: \r\n",
    "        nmbr_of_rides = int(input(\"How many rides do you plan to take this month?: \"))\r\n",
    "        if not 0 < nmbr_of_rides:\r\n",
    "            raise ValueError(\"You can't take fewer than 1 rides\")\r\n",
    "        break   \r\n",
    "    except ValueError as err:\r\n",
    "        print(\"Please insert a whole larger than 0\")\r\n",
    "\r\n",
    "total_cost = ticket_cost*nmbr_of_rides\r\n",
    "\r\n",
    "if total_cost > month_cost:\r\n",
    "    print(\"You should probably buy a monthly card\")\r\n",
    "    print(f\"This would save you {total_cost-month_cost}kr in a month\")\r\n",
    "else:\r\n",
    "    print(\"You should stick to buying single tickets\")\r\n",
    "    print(f\"This would save you {month_cost-total_cost}kr\")\r\n",
    "\r\n",
    "print(f\"You plan to take {nmbr_of_rides} rides which costs {total_cost}kr\")"
   ],
   "outputs": [
    {
     "output_type": "stream",
     "name": "stdout",
     "text": [
      "Cost of single ticket: 45kr\n",
      "Cost of montly card: 1290kr\n",
      "You should probably buy a monthly card\n",
      "This would save you 39210kr in a month\n",
      "You plan to take 900 rides which costs 40500kr\n"
     ]
    }
   ],
   "metadata": {}
  }
 ],
 "metadata": {
  "orig_nbformat": 4,
  "language_info": {
   "name": "python",
   "version": "3.9.7",
   "mimetype": "text/x-python",
   "codemirror_mode": {
    "name": "ipython",
    "version": 3
   },
   "pygments_lexer": "ipython3",
   "nbconvert_exporter": "python",
   "file_extension": ".py"
  },
  "kernelspec": {
   "name": "python3",
   "display_name": "Python 3.9.7 64-bit ('python-programmering-LukasKallstrom-az359LF-': pipenv)"
  },
  "interpreter": {
   "hash": "f6559a078d0646459de2a810a6153f3a088abdfb0a4233823ce3deb6d84cdd34"
  }
 },
 "nbformat": 4,
 "nbformat_minor": 2
}