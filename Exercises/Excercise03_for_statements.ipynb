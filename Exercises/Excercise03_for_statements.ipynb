{
 "cells": [
  {
   "cell_type": "markdown",
   "source": [
    "# 1. Count numbers"
   ],
   "metadata": {}
  },
  {
   "cell_type": "code",
   "execution_count": 9,
   "source": [
    "for i in range(21):\r\n",
    "    print(i-10, end=\" \")\r\n",
    "\r\n",
    "print()\r\n",
    "\r\n",
    "for i in range(0,21,2):\r\n",
    "    print(i-10, end=\" \")"
   ],
   "outputs": [
    {
     "output_type": "stream",
     "name": "stdout",
     "text": [
      "-10 -9 -8 -7 -6 -5 -4 -3 -2 -1 0 1 2 3 4 5 6 7 8 9 10 \n",
      "-10 -8 -6 -4 -2 0 2 4 6 8 10 "
     ]
    }
   ],
   "metadata": {}
  },
  {
   "cell_type": "markdown",
   "source": [
    "# 2. Arithmetic sum"
   ],
   "metadata": {}
  },
  {
   "cell_type": "code",
   "execution_count": 11,
   "source": [
    "sum = 0\r\n",
    "\r\n",
    "for i in range(100):\r\n",
    "    sum += i\r\n",
    "print(sum)\r\n",
    "\r\n",
    "sum=0\r\n",
    "\r\n",
    "for i in range(0,100,2):\r\n",
    "    sum += i\r\n",
    "print(sum)"
   ],
   "outputs": [
    {
     "output_type": "stream",
     "name": "stdout",
     "text": [
      "4950\n",
      "2450\n"
     ]
    }
   ],
   "metadata": {}
  },
  {
   "cell_type": "markdown",
   "source": [
    "# 3. Mulitplication Table"
   ],
   "metadata": {}
  },
  {
   "cell_type": "code",
   "execution_count": 22,
   "source": [
    "table = int(input(\"Table: \"))\r\n",
    "start = int(input(\"Start: \"))\r\n",
    "end = int(input(\"End: \"))\r\n",
    "print(f\"{table}th table from {start} to {end}:\")\r\n",
    "\r\n",
    "for i in range(start,end+1):\r\n",
    "    print(f\"{i}*{table} = {i*table}\", end=\", \")"
   ],
   "outputs": [
    {
     "output_type": "stream",
     "name": "stdout",
     "text": [
      "3th table from 4 to 10:\n",
      "4*3 = 12, 5*3 = 15, 6*3 = 18, 7*3 = 21, 8*3 = 24, 9*3 = 27, 10*3 = 30, "
     ]
    }
   ],
   "metadata": {}
  },
  {
   "cell_type": "markdown",
   "source": [
    "# 4. Faculty"
   ],
   "metadata": {}
  },
  {
   "cell_type": "code",
   "execution_count": 25,
   "source": [
    "n = int(input(\"Input n\"))\r\n",
    "print(f\"{n}! = \",end=\"\")\r\n",
    "sum = 1\r\n",
    "for i in range (1,n):\r\n",
    "    sum *= i\r\n",
    "print(sum)\r\n"
   ],
   "outputs": [
    {
     "output_type": "stream",
     "name": "stdout",
     "text": [
      "5! = 24\n"
     ]
    }
   ],
   "metadata": {}
  },
  {
   "cell_type": "markdown",
   "source": [
    "# 5. Guess the number"
   ],
   "metadata": {}
  },
  {
   "cell_type": "code",
   "execution_count": 72,
   "source": [
    "import random as rnd\r\n",
    "number = rnd.randint(1,9999)\r\n",
    "\r\n",
    "\r\n",
    "for i in range(10000):\r\n",
    "    if i == number:\r\n",
    "        print(f\"The generated number is: {number}\")\r\n",
    "        break\r\n",
    "    "
   ],
   "outputs": [
    {
     "output_type": "stream",
     "name": "stdout",
     "text": [
      "The generated number is: 4443\n"
     ]
    }
   ],
   "metadata": {}
  },
  {
   "cell_type": "markdown",
   "source": [
    "# 6. Rice on chessboard"
   ],
   "metadata": {}
  },
  {
   "cell_type": "code",
   "execution_count": 78,
   "source": [
    "sum = 0\r\n",
    "\r\n",
    "for i in range(64):\r\n",
    "    sum = sum + 2**i\r\n",
    "print(f\"Total number of rice grains on the board: {sum}\")"
   ],
   "outputs": [
    {
     "output_type": "stream",
     "name": "stdout",
     "text": [
      "Total number of rice grains on the board: 18446744073709551615\n"
     ]
    }
   ],
   "metadata": {}
  }
 ],
 "metadata": {
  "orig_nbformat": 4,
  "language_info": {
   "name": "python",
   "version": "3.9.6",
   "mimetype": "text/x-python",
   "codemirror_mode": {
    "name": "ipython",
    "version": 3
   },
   "pygments_lexer": "ipython3",
   "nbconvert_exporter": "python",
   "file_extension": ".py"
  },
  "kernelspec": {
   "name": "python3",
   "display_name": "Python 3.9.6 64-bit ('python-programmering-LukasKallstrom-luee7lEl': pipenv)"
  },
  "interpreter": {
   "hash": "cdff0bf2e99ce0da2545e0928d541d18e5bc08e21cf263536836a8f75edf8e16"
  }
 },
 "nbformat": 4,
 "nbformat_minor": 2
}