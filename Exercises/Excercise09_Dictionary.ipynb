{
 "cells": [
  {
   "cell_type": "code",
   "execution_count": null,
   "source": [],
   "outputs": [],
   "metadata": {}
  },
  {
   "cell_type": "markdown",
   "source": [
    "# 2. Dice rolls"
   ],
   "metadata": {}
  },
  {
   "cell_type": "code",
   "execution_count": 3,
   "source": [
    "import random as rnd\r\n",
    "\r\n",
    "my_dict = {int(num): 0 for num in \"123456\"}\r\n",
    "temp = 0\r\n",
    "for i in range(1000000):\r\n",
    "    temp = rnd.randint(1,6)\r\n",
    "    my_dict[temp] += 1\r\n",
    "\r\n",
    "for k,v in my_dict.items():\r\n",
    "    print(f\"{k}s: {v}\")"
   ],
   "outputs": [
    {
     "output_type": "stream",
     "name": "stdout",
     "text": [
      "1s: 166646\n",
      "2s: 166391\n",
      "3s: 167343\n",
      "4s: 166608\n",
      "5s: 166522\n",
      "6s: 166490\n"
     ]
    }
   ],
   "metadata": {}
  },
  {
   "cell_type": "markdown",
   "source": [
    "# 3. Pokemon list"
   ],
   "metadata": {}
  },
  {
   "cell_type": "code",
   "execution_count": 34,
   "source": [
    "with open(\"files/pokemon_list.txt\", \"r\") as f:\r\n",
    "    pokemons = f.readlines()\r\n",
    "    pokedex = {}\r\n",
    "    for pokemon in pokemons:\r\n",
    "        pokemon = pokemon.split()\r\n",
    "        pokedex[pokemon[1]] = f\"{pokemon[2]}, {pokemon[0]}\"\r\n",
    "    print(pokedex[\"Gengar\"])\r\n",
    "    print(pokedex[\"Pikachu\"])"
   ],
   "outputs": [
    {
     "output_type": "stream",
     "name": "stdout",
     "text": [
      "SpÃ¶ke/Gift, 94\n",
      "Elektrisk, 25\n"
     ]
    }
   ],
   "metadata": {}
  },
  {
   "cell_type": "markdown",
   "source": [
    "# 4. Morse"
   ],
   "metadata": {}
  },
  {
   "cell_type": "code",
   "execution_count": 8,
   "source": [
    "def to_morse(my_word):\r\n",
    "    for letter in word:\r\n",
    "        print(morse_dict[letter.upper()],end=\" \")\r\n",
    "\r\n",
    "\r\n",
    "with open(\"files/morse.txt\", \"r\") as f:\r\n",
    "    morse_list = f.readlines()\r\n",
    "    morse_dict = {}\r\n",
    "    for letter in morse_list:\r\n",
    "        letter = letter.split()\r\n",
    "        morse_dict[letter[0][0]] = letter[1]\r\n",
    "    print(morse_dict)\r\n",
    "    word = str(input(\"Enter a word: \"))\r\n",
    "    print(f\"{word} in morse: \")\r\n",
    "    to_morse(word)"
   ],
   "outputs": [
    {
     "output_type": "stream",
     "name": "stdout",
     "text": [
      "{'A': '.-', 'B': '-...', 'C': '-.-.', 'D': '-..', 'E': '.', 'F': '..-.', 'G': '--', 'H': '....', 'I': '..', 'J': '.---', 'K': '-.-', 'L': '.-..', 'M': '--', 'N': '-.', 'O': '---', 'P': '.--', 'Q': '--.-', 'R': '.-.', 'S': '...', 'T': '-', 'U': '..-', 'V': '...-', 'W': '.--', 'X': '-..-', 'Y': '-.--', 'Z': '--..', 'Ã': '---'}\n",
      "inshallah in morse: \n",
      ".. -. ... .... .- .-.. .-.. .- .... "
     ]
    }
   ],
   "metadata": {}
  }
 ],
 "metadata": {
  "orig_nbformat": 4,
  "language_info": {
   "name": "python",
   "version": "3.9.7",
   "mimetype": "text/x-python",
   "codemirror_mode": {
    "name": "ipython",
    "version": 3
   },
   "pygments_lexer": "ipython3",
   "nbconvert_exporter": "python",
   "file_extension": ".py"
  },
  "kernelspec": {
   "name": "python3",
   "display_name": "Python 3.9.7 64-bit ('python-programmering-LukasKallstrom-az359LF-': pipenv)"
  },
  "interpreter": {
   "hash": "f6559a078d0646459de2a810a6153f3a088abdfb0a4233823ce3deb6d84cdd34"
  }
 },
 "nbformat": 4,
 "nbformat_minor": 2
}