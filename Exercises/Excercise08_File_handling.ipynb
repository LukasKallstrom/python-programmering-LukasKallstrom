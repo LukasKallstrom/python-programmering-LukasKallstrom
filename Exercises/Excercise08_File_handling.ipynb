{
 "cells": [
  {
   "cell_type": "markdown",
   "source": [
    "# 1. Dice rolls"
   ],
   "metadata": {}
  },
  {
   "cell_type": "code",
   "execution_count": 12,
   "source": [
    "import random as rnd \r\n",
    "dice_rolls = [str(rnd.randint(1,6)) for i in range(20)]\r\n",
    "fours = 0\r\n",
    "with open(\"files/dice_rolls.txt\", \"w\") as f:\r\n",
    "    f.write(\"20 dice rolls: \\n\")\r\n",
    "    for roll in dice_rolls:\r\n",
    "        f.write(str(roll))\r\n",
    "        f.write(\" \")\r\n",
    "    dice_rolls.sort()\r\n",
    "    f.write(\"\\nSorted: \\n\")\r\n",
    "    for roll in dice_rolls:\r\n",
    "        f.write(str(roll))\r\n",
    "        f.write(\" \")\r\n",
    "    for roll in dice_rolls:\r\n",
    "        if roll == \"4\":\r\n",
    "            fours+=1\r\n",
    "    f.write(f\"\\nNumber of fours: \\n{fours}\")"
   ],
   "outputs": [],
   "metadata": {}
  }
 ],
 "metadata": {
  "orig_nbformat": 4,
  "language_info": {
   "name": "python",
   "version": "3.9.6",
   "mimetype": "text/x-python",
   "codemirror_mode": {
    "name": "ipython",
    "version": 3
   },
   "pygments_lexer": "ipython3",
   "nbconvert_exporter": "python",
   "file_extension": ".py"
  },
  "kernelspec": {
   "name": "python3",
   "display_name": "Python 3.9.6 64-bit ('python-programmering-LukasKallstrom-luee7lEl': pipenv)"
  },
  "interpreter": {
   "hash": "cdff0bf2e99ce0da2545e0928d541d18e5bc08e21cf263536836a8f75edf8e16"
  }
 },
 "nbformat": 4,
 "nbformat_minor": 2
}