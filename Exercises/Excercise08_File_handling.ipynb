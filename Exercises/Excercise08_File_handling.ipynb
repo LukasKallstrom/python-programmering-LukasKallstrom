{
 "cells": [
  {
   "cell_type": "markdown",
   "source": [
    "# 1. Dice rolls"
   ],
   "metadata": {}
  },
  {
   "cell_type": "code",
   "execution_count": 56,
   "source": [
    "import random as rnd \r\n",
    "dice_rolls = [str(rnd.randint(1,6)) for i in range(20)]\r\n",
    "fours = 0\r\n",
    "with open(\"files/dice_rolls.txt\", \"w\") as f:\r\n",
    "    f.write(\"20 dice rolls: \\n\")\r\n",
    "    for roll in dice_rolls:\r\n",
    "        f.write(str(roll))\r\n",
    "        f.write(\" \")\r\n",
    "    dice_rolls.sort()\r\n",
    "    f.write(\"\\nSorted: \\n\")\r\n",
    "    for roll in dice_rolls:\r\n",
    "        f.write(str(roll))\r\n",
    "        f.write(\" \")\r\n",
    "    for roll in dice_rolls:\r\n",
    "        if roll == \"4\":\r\n",
    "            fours+=1\r\n",
    "    f.write(f\"\\nNumber of fours: \\n{fours}\")"
   ],
   "outputs": [],
   "metadata": {}
  },
  {
   "cell_type": "markdown",
   "source": [
    "# 2. Test results"
   ],
   "metadata": {}
  },
  {
   "cell_type": "code",
   "execution_count": 23,
   "source": [
    "start = 0\r\n",
    "grades = {grade: 0 for grade in \"FEDCBA\"}\r\n",
    "\r\n",
    "with open(\"files/test_results.txt\", \"r\") as f_read, open(\"files/test_results_sorted.txt\", \"w\") as f_write:\r\n",
    "\r\n",
    "    text = f_read.readlines()\r\n",
    "    for item in text:\r\n",
    "        f_write.write(item)\r\n",
    "    text.sort()\r\n",
    "\r\n",
    "    f_write.write(\"\\n\\nSorted by name:\\n\")\r\n",
    "    for item in text:\r\n",
    "        f_write.write(item)\r\n",
    "    f_write.write(\"\\n\")\r\n",
    "\r\n",
    "    sort_by_grade = sorted(text, key=lambda x: x[-3:-1])\r\n",
    "    for student in sort_by_grade:\r\n",
    "        if 0 < int(student[-3:]) < 20:\r\n",
    "            grades[\"F\"] +=1\r\n",
    "        elif 20 < int(student[-3:]) < 30:\r\n",
    "            grades[\"E\"] +=1\r\n",
    "        elif 30 < int(student[-3:]) < 40:\r\n",
    "            grades[\"D\"] +=1\r\n",
    "        elif 40 < int(student[-3:]) < 50:\r\n",
    "            grades[\"C\"] +=1\r\n",
    "        elif 50 < int(student[-3:]) < 60:\r\n",
    "            grades[\"B\"] +=1\r\n",
    "        elif 60 < int(student[-3:]) < 70:\r\n",
    "            grades[\"A\"] +=1\r\n",
    "\r\n",
    "\r\n",
    "    for k,v in grades.items():\r\n",
    "        f_write.write(f\"\\nGrade: {k}:\\n\")\r\n",
    "        for x in range(start,start+v):\r\n",
    "            f_write.write(sort_by_grade[x])\r\n",
    "        start+=v\r\n"
   ],
   "outputs": [],
   "metadata": {}
  },
  {
   "cell_type": "markdown",
   "source": [
    "# 3. National Test"
   ],
   "metadata": {}
  },
  {
   "cell_type": "code",
   "execution_count": 133,
   "source": [
    "import matplotlib.pyplot as plt\r\n",
    "\r\n",
    "def format_data(lines, i):\r\n",
    "    grades = [x[:1]for x in lines]\r\n",
    "    percent = [x[2:-2] for x in lines]\r\n",
    "    if i == 1:\r\n",
    "        ax1.pie(percent, labels=grades)\r\n",
    "        ax1.legend()\r\n",
    "    if i == 2:\r\n",
    "        ax2.pie(percent, labels=grades)\r\n",
    "        ax2.legend()\r\n",
    "\r\n",
    "\r\n",
    "with open(\"files/NPvt19Ma2A.txt\", \"r\") as np1, open(\"files/NPvt19Ma2C.txt\", \"r\") as np2:\r\n",
    "    fig, (ax1,ax2) = plt.subplots(1,2)\r\n",
    "    f1 = np1.readlines()\r\n",
    "    f2 = np2.readlines()\r\n",
    "    format_data(f1,1)\r\n",
    "    format_data(f2,2)\r\n",
    "    print(f\"Ma2c grades: {'':<11} Ma2a grades:\")\r\n",
    "    "
   ],
   "outputs": [
    {
     "output_type": "stream",
     "name": "stdout",
     "text": [
      "Ma2c grades:             Ma2a grades:\n"
     ]
    },
    {
     "output_type": "display_data",
     "data": {
      "image/png": "[encoded data removed]",
      "text/plain": [
       "<Figure size 432x288 with 2 Axes>"
      ]
     },
     "metadata": {}
    }
   ],
   "metadata": {}
  },
  {
   "cell_type": "markdown",
   "source": [
    "# 4. Dice roll experiment"
   ],
   "metadata": {}
  },
  {
   "cell_type": "code",
   "execution_count": 234,
   "source": [
    "import random as rnd\r\n",
    "with open(\"files/experiment.txt\", \"w\") as file:\r\n",
    "    def add_number(number):\r\n",
    "        if number == 1:\r\n",
    "            my_dict[1]+=1\r\n",
    "        elif number == 2:\r\n",
    "            my_dict[2]+=1\r\n",
    "        elif number == 3:\r\n",
    "            my_dict[3]+=1\r\n",
    "        elif number == 4:\r\n",
    "            my_dict[4]+=1\r\n",
    "        elif number == 5:\r\n",
    "            my_dict[5]+=1\r\n",
    "        elif number == 6:\r\n",
    "            my_dict[6]+=1\r\n",
    "    def reset_numbers():\r\n",
    "        return {number: 0 for number in [1,2,3,4,5,6] }\r\n",
    "\r\n",
    "    def calc_prob(dictionary,runs):\r\n",
    "        file.write(f\"\\nIn {runs} runs:\\n\")\r\n",
    "        for k,v in dictionary.items():\r\n",
    "            file.write(f\"Number of {k}s: {v}. Probability of {k}: {100*v/runs}%\\n\")\r\n",
    "        \r\n",
    "    stop = 1\r\n",
    "\r\n",
    "    for i in range(5):\r\n",
    "        stop *= 10\r\n",
    "        my_dict = reset_numbers()\r\n",
    "        for j in range(stop):\r\n",
    "            add_number(rnd.randint(1,6))\r\n",
    "        calc_prob(my_dict,stop)\r\n",
    "\r\n",
    "\r\n"
   ],
   "outputs": [],
   "metadata": {}
  },
  {
   "cell_type": "code",
   "execution_count": null,
   "source": [],
   "outputs": [],
   "metadata": {}
  }
 ],
 "metadata": {
  "orig_nbformat": 4,
  "language_info": {
   "name": "python",
   "version": "3.9.7",
   "mimetype": "text/x-python",
   "codemirror_mode": {
    "name": "ipython",
    "version": 3
   },
   "pygments_lexer": "ipython3",
   "nbconvert_exporter": "python",
   "file_extension": ".py"
  },
  "kernelspec": {
   "name": "python3",
   "display_name": "Python 3.9.7 64-bit ('python-programmering-LukasKallstrom-az359LF-': pipenv)"
  },
  "interpreter": {
   "hash": "f6559a078d0646459de2a810a6153f3a088abdfb0a4233823ce3deb6d84cdd34"
  }
 },
 "nbformat": 4,
 "nbformat_minor": 2
}