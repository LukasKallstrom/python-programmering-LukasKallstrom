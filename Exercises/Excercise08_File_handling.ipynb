{
 "cells": [
  {
   "cell_type": "markdown",
   "source": [
    "# 1. Dice rolls"
   ],
   "metadata": {}
  },
  {
   "cell_type": "code",
   "execution_count": 56,
   "source": [
    "import random as rnd \r\n",
    "dice_rolls = [str(rnd.randint(1,6)) for i in range(20)]\r\n",
    "fours = 0\r\n",
    "with open(\"files/dice_rolls.txt\", \"w\") as f:\r\n",
    "    f.write(\"20 dice rolls: \\n\")\r\n",
    "    for roll in dice_rolls:\r\n",
    "        f.write(str(roll))\r\n",
    "        f.write(\" \")\r\n",
    "    dice_rolls.sort()\r\n",
    "    f.write(\"\\nSorted: \\n\")\r\n",
    "    for roll in dice_rolls:\r\n",
    "        f.write(str(roll))\r\n",
    "        f.write(\" \")\r\n",
    "    for roll in dice_rolls:\r\n",
    "        if roll == \"4\":\r\n",
    "            fours+=1\r\n",
    "    f.write(f\"\\nNumber of fours: \\n{fours}\")"
   ],
   "outputs": [],
   "metadata": {}
  },
  {
   "cell_type": "markdown",
   "source": [
    "# 2. Test results"
   ],
   "metadata": {}
  },
  {
   "cell_type": "code",
   "execution_count": 183,
   "source": [
    "start = 0\r\n",
    "grades = {grade: 0 for grade in \"FEDCBA\"}\r\n",
    "\r\n",
    "with open(\"files/test_results.txt\", \"r\") as f_read, open(\"files/test_results.txt\", \"a\") as f_write:\r\n",
    "\r\n",
    "    text = f_read.readlines()\r\n",
    "    text.sort()\r\n",
    "\r\n",
    "    f_write.write(\"\\n\\nSorted by name:\\n\")\r\n",
    "    for item in text:\r\n",
    "        f_write.write(item)\r\n",
    "    f_write.write(\"\\n\")\r\n",
    "\r\n",
    "    sort_by_grade = sorted(text, key=lambda x: x[-3:-1])\r\n",
    "    for student in sort_by_grade:\r\n",
    "        if 0 < int(student[-3:]) < 20:\r\n",
    "            grades[\"F\"] +=1\r\n",
    "        elif 20 < int(student[-3:]) < 30:\r\n",
    "            grades[\"E\"] +=1\r\n",
    "        elif 30 < int(student[-3:]) < 40:\r\n",
    "            grades[\"D\"] +=1\r\n",
    "        elif 40 < int(student[-3:]) < 50:\r\n",
    "            grades[\"C\"] +=1\r\n",
    "        elif 50 < int(student[-3:]) < 60:\r\n",
    "            grades[\"B\"] +=1\r\n",
    "        elif 60 < int(student[-3:]) < 70:\r\n",
    "            grades[\"A\"] +=1\r\n",
    "\r\n",
    "\r\n",
    "    for k,v in grades.items():\r\n",
    "        f_write.write(f\"\\nGrade: {k}:\\n\")\r\n",
    "        for x in range(start,start+v):\r\n",
    "            f_write.write(sort_by_grade[x])\r\n",
    "        start+=v\r\n"
   ],
   "outputs": [],
   "metadata": {}
  },
  {
   "cell_type": "code",
   "execution_count": null,
   "source": [],
   "outputs": [],
   "metadata": {}
  }
 ],
 "metadata": {
  "orig_nbformat": 4,
  "language_info": {
   "name": "python",
   "version": "3.9.7",
   "mimetype": "text/x-python",
   "codemirror_mode": {
    "name": "ipython",
    "version": 3
   },
   "pygments_lexer": "ipython3",
   "nbconvert_exporter": "python",
   "file_extension": ".py"
  },
  "kernelspec": {
   "name": "python3",
   "display_name": "Python 3.9.7 64-bit ('python-programmering-LukasKallstrom-az359LF-': pipenv)"
  },
  "interpreter": {
   "hash": "f6559a078d0646459de2a810a6153f3a088abdfb0a4233823ce3deb6d84cdd34"
  }
 },
 "nbformat": 4,
 "nbformat_minor": 2
}