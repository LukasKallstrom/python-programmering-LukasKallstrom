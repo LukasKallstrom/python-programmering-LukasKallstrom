{
 "cells": [
  {
   "cell_type": "markdown",
   "source": [
    "# 1. Check sign"
   ],
   "metadata": {}
  },
  {
   "cell_type": "code",
   "execution_count": 3,
   "source": [
    "number = float(input(\"Please insert a number\"))\r\n",
    "\r\n",
    "if number == 0:\r\n",
    "    print(\"Your number is 0\")\r\n",
    "elif number > 0:\r\n",
    "    print(\"Your number is positive\")\r\n",
    "else:\r\n",
    "    print(\"Your number is negative\")\r\n"
   ],
   "outputs": [
    {
     "output_type": "stream",
     "name": "stdout",
     "text": [
      "Your number is whole\n"
     ]
    }
   ],
   "metadata": {}
  },
  {
   "cell_type": "markdown",
   "source": [
    "# 2. Smallest"
   ],
   "metadata": {}
  },
  {
   "cell_type": "code",
   "execution_count": 5,
   "source": [
    "print(\"Please input 2 numbers\")\r\n",
    "number_1 = input(\"Number 1: \")\r\n",
    "number_2 = input(\"Number 2: \")\r\n",
    "\r\n",
    "if number_1 > number_2:\r\n",
    "    print(f\"Number {number_1} is larger than {number_2}\")\r\n",
    "elif number_2 > number_1:\r\n",
    "    print(f\"Number {number_2} is larger than {number_1}\")\r\n",
    "else:\r\n",
    "    print(f\"Number 1: {number_1} and number 2: {number_2} are the same\")"
   ],
   "outputs": [
    {
     "output_type": "stream",
     "name": "stdout",
     "text": [
      "Please input 2 numbers\n",
      "Number 1: 10 and number 2: 10 are the same\n"
     ]
    }
   ],
   "metadata": {}
  },
  {
   "cell_type": "markdown",
   "source": [
    "# 3. Right angle"
   ],
   "metadata": {}
  },
  {
   "cell_type": "code",
   "execution_count": 11,
   "source": [
    "print(\"Please input 3 angles\")\r\n",
    "Angle_1 = float(input(\"Angle 1: \"))\r\n",
    "Angle_2 = float(input(\"Angle 2: \"))\r\n",
    "Angle_3 = float(input(\"Angle 3: \"))\r\n",
    "print(\"Angles:\")\r\n",
    "print(f\"Angle 1: {Angle_1}\")\r\n",
    "print(f\"Angle 2: {Angle_2}\")\r\n",
    "print(f\"Angle 3: {Angle_3}\")\r\n",
    "\r\n",
    "if Angle_1 + Angle_2 + Angle_3 == 180:\r\n",
    "    if Angle_1 == 90 or Angle_2 == 90 or Angle_3 == 90:\r\n",
    "        print(\"Your triangle has a right angle\")\r\n",
    "    else:\r\n",
    "        print(\"Your triangle has no right angle\")\r\n",
    "else:\r\n",
    "    print(\"Your triangle is not valid (angles are equall to more than 180)\")"
   ],
   "outputs": [
    {
     "output_type": "stream",
     "name": "stdout",
     "text": [
      "Please input 3 angles\n",
      "Angles:\n",
      "Angle 1: 90.0\n",
      "Angle 2: 90.0\n",
      "Angle 3: 90.0\n",
      "Your triangle is not valid (angles are equall to more than 180)\n"
     ]
    }
   ],
   "metadata": {}
  },
  {
   "cell_type": "markdown",
   "source": [
    "# 4. Medicine"
   ],
   "metadata": {}
  },
  {
   "cell_type": "code",
   "execution_count": null,
   "source": [],
   "outputs": [],
   "metadata": {}
  }
 ],
 "metadata": {
  "orig_nbformat": 4,
  "language_info": {
   "name": "python",
   "version": "3.9.6",
   "mimetype": "text/x-python",
   "codemirror_mode": {
    "name": "ipython",
    "version": 3
   },
   "pygments_lexer": "ipython3",
   "nbconvert_exporter": "python",
   "file_extension": ".py"
  },
  "kernelspec": {
   "name": "python3",
   "display_name": "Python 3.9.6 64-bit"
  },
  "interpreter": {
   "hash": "0359460f700e627ce88dedeb970a7aa5e04676b9f54c2a233cb78f4fa5dbc6e6"
  }
 },
 "nbformat": 4,
 "nbformat_minor": 2
}