{
 "cells": [
  {
   "cell_type": "markdown",
   "source": [
    "# 1. Check sign"
   ],
   "metadata": {}
  },
  {
   "cell_type": "code",
   "execution_count": 24,
   "source": [
    "number = float(input(\"Please insert a number\"))\r\n",
    "\r\n",
    "if number == 0:\r\n",
    "    print(\"Your number is 0\")\r\n",
    "elif number > 0:\r\n",
    "    print(\"Your number is positive\")\r\n",
    "else:\r\n",
    "    print(\"Your number is negative\")\r\n"
   ],
   "outputs": [
    {
     "output_type": "stream",
     "name": "stdout",
     "text": [
      "Your number is positive\n"
     ]
    }
   ],
   "metadata": {}
  },
  {
   "cell_type": "markdown",
   "source": [
    "# 2. Smallest"
   ],
   "metadata": {}
  },
  {
   "cell_type": "code",
   "execution_count": 25,
   "source": [
    "print(\"Please input 2 numbers\")\r\n",
    "number_1 = input(\"Number 1: \")\r\n",
    "number_2 = input(\"Number 2: \")\r\n",
    "\r\n",
    "if number_1 > number_2:\r\n",
    "    print(f\"Number {number_1} is larger than {number_2}\")\r\n",
    "elif number_2 > number_1:\r\n",
    "    print(f\"Number {number_2} is larger than {number_1}\")\r\n",
    "else:\r\n",
    "    print(f\"Number 1: {number_1} and number 2: {number_2} are the same\")"
   ],
   "outputs": [
    {
     "output_type": "stream",
     "name": "stdout",
     "text": [
      "Please input 2 numbers\n",
      "Number 1: 15 and number 2: 15 are the same\n"
     ]
    }
   ],
   "metadata": {}
  },
  {
   "cell_type": "markdown",
   "source": [
    "# 3. Right angle"
   ],
   "metadata": {}
  },
  {
   "cell_type": "code",
   "execution_count": 26,
   "source": [
    "print(\"Please input 3 angles\")\r\n",
    "Angle_1 = float(input(\"Angle 1: \"))\r\n",
    "Angle_2 = float(input(\"Angle 2: \"))\r\n",
    "Angle_3 = float(input(\"Angle 3: \"))\r\n",
    "print(\"Angles:\")\r\n",
    "print(f\"Angle 1: {Angle_1}\")\r\n",
    "print(f\"Angle 2: {Angle_2}\")\r\n",
    "print(f\"Angle 3: {Angle_3}\")\r\n",
    "\r\n",
    "if Angle_1 + Angle_2 + Angle_3 == 180:\r\n",
    "    if Angle_1 == 90 or Angle_2 == 90 or Angle_3 == 90:\r\n",
    "        print(\"Your triangle has a right angle\")\r\n",
    "    else:\r\n",
    "        print(\"Your triangle has no right angle\")\r\n",
    "else:\r\n",
    "    print(\"Your triangle is not valid (angles are equall to more than 180)\")"
   ],
   "outputs": [
    {
     "output_type": "stream",
     "name": "stdout",
     "text": [
      "Please input 3 angles\n"
     ]
    },
    {
     "output_type": "error",
     "ename": "ValueError",
     "evalue": "could not convert string to float: ''",
     "traceback": [
      "\u001b[1;31m---------------------------------------------------------------------------\u001b[0m",
      "\u001b[1;31mValueError\u001b[0m                                Traceback (most recent call last)",
      "\u001b[1;32m~\\AppData\\Local\\Temp/ipykernel_14584/2112444566.py\u001b[0m in \u001b[0;36m<module>\u001b[1;34m\u001b[0m\n\u001b[0;32m      1\u001b[0m \u001b[0mprint\u001b[0m\u001b[1;33m(\u001b[0m\u001b[1;34m\"Please input 3 angles\"\u001b[0m\u001b[1;33m)\u001b[0m\u001b[1;33m\u001b[0m\u001b[1;33m\u001b[0m\u001b[0m\n\u001b[1;32m----> 2\u001b[1;33m \u001b[0mAngle_1\u001b[0m \u001b[1;33m=\u001b[0m \u001b[0mfloat\u001b[0m\u001b[1;33m(\u001b[0m\u001b[0minput\u001b[0m\u001b[1;33m(\u001b[0m\u001b[1;34m\"Angle 1: \"\u001b[0m\u001b[1;33m)\u001b[0m\u001b[1;33m)\u001b[0m\u001b[1;33m\u001b[0m\u001b[1;33m\u001b[0m\u001b[0m\n\u001b[0m\u001b[0;32m      3\u001b[0m \u001b[0mAngle_2\u001b[0m \u001b[1;33m=\u001b[0m \u001b[0mfloat\u001b[0m\u001b[1;33m(\u001b[0m\u001b[0minput\u001b[0m\u001b[1;33m(\u001b[0m\u001b[1;34m\"Angle 2: \"\u001b[0m\u001b[1;33m)\u001b[0m\u001b[1;33m)\u001b[0m\u001b[1;33m\u001b[0m\u001b[1;33m\u001b[0m\u001b[0m\n\u001b[0;32m      4\u001b[0m \u001b[0mAngle_3\u001b[0m \u001b[1;33m=\u001b[0m \u001b[0mfloat\u001b[0m\u001b[1;33m(\u001b[0m\u001b[0minput\u001b[0m\u001b[1;33m(\u001b[0m\u001b[1;34m\"Angle 3: \"\u001b[0m\u001b[1;33m)\u001b[0m\u001b[1;33m)\u001b[0m\u001b[1;33m\u001b[0m\u001b[1;33m\u001b[0m\u001b[0m\n\u001b[0;32m      5\u001b[0m \u001b[0mprint\u001b[0m\u001b[1;33m(\u001b[0m\u001b[1;34m\"Angles:\"\u001b[0m\u001b[1;33m)\u001b[0m\u001b[1;33m\u001b[0m\u001b[1;33m\u001b[0m\u001b[0m\n",
      "\u001b[1;31mValueError\u001b[0m: could not convert string to float: ''"
     ]
    }
   ],
   "metadata": {}
  },
  {
   "cell_type": "markdown",
   "source": [
    "# 4. Medicine"
   ],
   "metadata": {}
  },
  {
   "cell_type": "code",
   "execution_count": null,
   "source": [
    "age = float(input(\"Input your age: \"))\r\n",
    "weight = float(input(\"Input your weight\"))\r\n",
    "\r\n",
    "if age > 12 and weight > 40:\r\n",
    "    print(\"You should take 1-2 pills\")\r\n",
    "elif age >= 7 and weight >= 26:\r\n",
    "    print(\"Your should take 1/2 - 1 pill\")\r\n",
    "elif age >= 3 and weight >= 15:\r\n",
    "    print(\"Your should take 1/2 pill\")\r\n",
    "else:\r\n",
    "    print(\"Dont take these pills\")"
   ],
   "outputs": [
    {
     "output_type": "stream",
     "name": "stdout",
     "text": [
      "Age: 14, weight: 30\n",
      "Your should take 1/2 - 1 pill\n"
     ]
    }
   ],
   "metadata": {}
  },
  {
   "cell_type": "markdown",
   "source": [
    "# 5. Divisible"
   ],
   "metadata": {}
  },
  {
   "cell_type": "code",
   "execution_count": 34,
   "source": [
    "number = float(input(\"Input your number\"))\r\n",
    "\r\n",
    "if number % 2 > 0 and number % 5 == 0:\r\n",
    "    print(\"Your number is odd and divisible by 5\")\r\n",
    "elif number % 2 > 0:\r\n",
    "    print(\"Your number is odd\") \r\n",
    "elif number % 5 == 0:\r\n",
    "    print(\"Your number is divisible by 5\")\r\n",
    "else:\r\n",
    "    print(\"Your number is even and not divisible by 5\")\r\n"
   ],
   "outputs": [
    {
     "output_type": "stream",
     "name": "stdout",
     "text": [
      "Your number is odd\n"
     ]
    }
   ],
   "metadata": {}
  },
  {
   "cell_type": "code",
   "execution_count": null,
   "source": [],
   "outputs": [],
   "metadata": {}
  },
  {
   "cell_type": "code",
   "execution_count": null,
   "source": [],
   "outputs": [],
   "metadata": {}
  }
 ],
 "metadata": {
  "orig_nbformat": 4,
  "language_info": {
   "name": "python",
   "version": "3.9.6",
   "mimetype": "text/x-python",
   "codemirror_mode": {
    "name": "ipython",
    "version": 3
   },
   "pygments_lexer": "ipython3",
   "nbconvert_exporter": "python",
   "file_extension": ".py"
  },
  "kernelspec": {
   "name": "python3",
   "display_name": "Python 3.9.6 64-bit"
  },
  "interpreter": {
   "hash": "0359460f700e627ce88dedeb970a7aa5e04676b9f54c2a233cb78f4fa5dbc6e6"
  }
 },
 "nbformat": 4,
 "nbformat_minor": 2
}