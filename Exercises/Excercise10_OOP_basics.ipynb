{
 "cells": [
  {
   "cell_type": "markdown",
   "source": [
    "# 1. Unit conversion"
   ],
   "metadata": {}
  },
  {
   "cell_type": "code",
   "execution_count": 19,
   "source": [
    "class conversion:\r\n",
    "    def __init__(self, value: float) -> None:\r\n",
    "        self.value = value\r\n",
    "    \r\n",
    "    @property\r\n",
    "    def value(self) -> float:\r\n",
    "        #print(\"Value getter is running\")\r\n",
    "        return self._value\r\n",
    "\r\n",
    "    @value.setter\r\n",
    "    def value(self, Value) -> None:\r\n",
    "        #print(\"Value setter is running\")\r\n",
    "        if not isinstance(Value, (float, int)):\r\n",
    "            raise TypeError(f\"{Value} must be int or float\")\r\n",
    "\r\n",
    "        # if Value < 0:\r\n",
    "            raise ValueError(f\"{Value} must be larger than 0\")\r\n",
    "\r\n",
    "        self._value = Value\r\n",
    "\r\n",
    "\r\n",
    "    def inch_to_cm(self) -> float:\r\n",
    "        return self._value*2.54\r\n",
    "\r\n",
    "    def foot_to_meters(self) -> float:\r\n",
    "        return self._value*0.3048\r\n",
    "\r\n",
    "    def pound_to_kg(self) -> float:\r\n",
    "        return self._value*0.45359237\r\n",
    "    \r\n",
    "    def __repr__(self) -> str:\r\n",
    "        return f\"conversion(value = {self._value})\"\r\n",
    "\r\n",
    "        \r\n",
    "v1 = conversion(14.3)\r\n",
    "print(f\"{v1.value} inches is {v1.inch_to_cm()}cm\")\r\n",
    "print(f\"{v1.value} foot is {v1.foot_to_meters()}m\")\r\n",
    "print(f\"{v1.value} pound is {v1.pound_to_kg():.2f}kg\")\r\n"
   ],
   "outputs": [
    {
     "output_type": "stream",
     "name": "stdout",
     "text": [
      "14.3 inches is 36.322cm\n",
      "14.3 foot is 4.35864m\n",
      "14.3 pound is 6.49kg\n"
     ]
    }
   ],
   "metadata": {}
  },
  {
   "cell_type": "markdown",
   "source": [
    "# 2. Person"
   ],
   "metadata": {}
  },
  {
   "cell_type": "code",
   "execution_count": 36,
   "source": [
    "class Person():\r\n",
    "    def __init__(self, name:str, age:int, email:str) -> None:\r\n",
    "        self.name = name\r\n",
    "        self.age = age\r\n",
    "        self.email = email\r\n",
    "\r\n",
    "    @property\r\n",
    "    def name(self) -> float:\r\n",
    "        return self._name\r\n",
    "\r\n",
    "    @name.setter\r\n",
    "    def name(self, name:str) -> None:\r\n",
    "        if not isinstance(name, (str)):\r\n",
    "            raise ValueError(f\"{name} must be string\")\r\n",
    "        self._name = name\r\n",
    "\r\n",
    "    @property\r\n",
    "    def age(self) -> int:\r\n",
    "        return self._age\r\n",
    "\r\n",
    "    @age.setter\r\n",
    "    def age(self, age:int) -> None:\r\n",
    "        if not isinstance(age, (int)):\r\n",
    "            raise ValueError(f\"{age} must be int\")\r\n",
    "        self._age = age\r\n",
    "    \r\n",
    "    @property\r\n",
    "    def email(self) -> str:\r\n",
    "        return self._email\r\n",
    "\r\n",
    "    @email.setter\r\n",
    "    def email(self, email:str) -> None:\r\n",
    "        if not isinstance(email, (str)):\r\n",
    "            raise ValueError(f\"{email} must be string\")\r\n",
    "        self._email = email\r\n",
    "\r\n",
    "    def say_hello(self) -> None:\r\n",
    "        print(f\"Hello, my name is {self.name}, I am {self.age} years old and my email adress is {self.email}\")\r\n",
    "\r\n",
    "    def __repr__(self) -> str:\r\n",
    "        return(f\"Person(name={self.name}, age={self.age}, email={self.email})\")\r\n",
    "\r\n",
    "p1 = Person(\"Gore\",30,\"temp.email@gmail.com\")\r\n",
    "\r\n",
    "print(p1)\r\n",
    "p1.say_hello()\r\n"
   ],
   "outputs": [
    {
     "output_type": "stream",
     "name": "stdout",
     "text": [
      "Person(name=Gore, age=30, email=temp.email@gmail.com)\n",
      "Hello, my name is Gore, I am 30 years old and my email adress is temp.email@gmail.com\n"
     ]
    }
   ],
   "metadata": {}
  },
  {
   "cell_type": "markdown",
   "source": [
    "# 3. Student and Teacher"
   ],
   "metadata": {}
  },
  {
   "cell_type": "code",
   "execution_count": 42,
   "source": [
    "class Student(Person):\r\n",
    "    def study(self) -> None:\r\n",
    "        print(\"study...study...study..more study\")\r\n",
    "\r\n",
    "    def say_hello(self) -> None:\r\n",
    "        print(f\"Yo, I am a student, my name is {self.name}, I am {self.age} years old and my email adress is {self.email}\")\r\n",
    "\r\n",
    "class Teacher(Person):\r\n",
    "    def teach(self) -> None:\r\n",
    "        print(\"Teach...teach...teach...more teaching\")\r\n",
    "\r\n",
    "s1 = Student(\"Bore\",45,\"bore@gmail.com\")\r\n",
    "t1 = Teacher(\"Tore\", 60, \"Tore60@gmail.com\")\r\n",
    "\r\n",
    "s1.study()\r\n",
    "s1.say_hello()\r\n",
    "t1.teach()\r\n",
    "t1.say_hello()"
   ],
   "outputs": [
    {
     "output_type": "stream",
     "name": "stdout",
     "text": [
      "study...study...study..more study\n",
      "Yo, I am a student, my name is Bore, I am 45 years old and my email adress is bore@gmail.com\n",
      "Teach...teach...teach...more teaching\n",
      "Hello, my name is Tore, I am 60 years old and my email adress is Tore60@gmail.com\n"
     ]
    }
   ],
   "metadata": {}
  },
  {
   "cell_type": "markdown",
   "source": [
    "# 4. Simple Travian"
   ],
   "metadata": {}
  },
  {
   "cell_type": "code",
   "execution_count": 102,
   "source": [
    "class Village:\r\n",
    "    def __init__(self):\r\n",
    "        self.wheat_field = Field()\r\n",
    "        self.iron_field = Field()\r\n",
    "        self.clay_field = Field()\r\n",
    "        self.lumber_field = Field()\r\n",
    "\r\n",
    "    def __repr__(self):\r\n",
    "        return (f\"\"\"Stock :  Wheat: {self.wheat_field.stock}/800  Clay: {self.clay_field.stock}/800  Iron: {self.iron_field.stock}/800  Lumber: {self.lumber_field.stock}/800\r\n",
    "Production: \r\n",
    "Wheat: {self.wheat_field.prod_rate}/hour\r\n",
    "Clay: {self.clay_field.prod_rate}/hour\r\n",
    "Iron: {self.iron_field.prod_rate}/hour\r\n",
    "Lumber: {self.lumber_field.prod_rate}/hour\"\"\")\r\n",
    "\r\n",
    "\r\n",
    "class Field():\r\n",
    "    def __init__(self) -> None:\r\n",
    "        self.prod_rate = 4\r\n",
    "        self.stock = 500\r\n",
    "\r\n",
    "    def __add__(self, other):\r\n",
    "        if other < 0:\r\n",
    "            raise ValueError(\"Value must be larger than 0\")\r\n",
    "        self.stock = min((self.stock + other), 800)\r\n",
    "\r\n",
    "    def __sub__(self, other):\r\n",
    "        if other<0:\r\n",
    "            raise ValueError(\"Value must be larger than 0\")\r\n",
    "        self.stock = max((self.stock - other), 0)\r\n",
    "    def __str__(self) -> str:\r\n",
    "        return()\r\n",
    "\r\n",
    "v1 = Village()\r\n",
    "v1.wheat_field + 290\r\n",
    "v1.clay_field + 25\r\n",
    "v1.iron_field + 5000\r\n",
    "v1.lumber_field -50\r\n",
    "print(v1)\r\n",
    "\r\n"
   ],
   "outputs": [
    {
     "output_type": "stream",
     "name": "stdout",
     "text": [
      "Stock :  Wheat: 790/800  Clay: 525/800  Iron: 800/800  Lumber: 450/800\n",
      "Production: \n",
      "Wheat: 4/hour\n",
      "Clay: 4/hour\n",
      "Iron: 4/hour\n",
      "Lumber: 4/hour\n"
     ]
    }
   ],
   "metadata": {}
  }
 ],
 "metadata": {
  "orig_nbformat": 4,
  "language_info": {
   "name": "python",
   "version": "3.9.6",
   "mimetype": "text/x-python",
   "codemirror_mode": {
    "name": "ipython",
    "version": 3
   },
   "pygments_lexer": "ipython3",
   "nbconvert_exporter": "python",
   "file_extension": ".py"
  },
  "kernelspec": {
   "name": "python3",
   "display_name": "Python 3.9.6 64-bit ('python-programmering-LukasKallstrom-luee7lEl': pipenv)"
  },
  "interpreter": {
   "hash": "cdff0bf2e99ce0da2545e0928d541d18e5bc08e21cf263536836a8f75edf8e16"
  }
 },
 "nbformat": 4,
 "nbformat_minor": 2
}