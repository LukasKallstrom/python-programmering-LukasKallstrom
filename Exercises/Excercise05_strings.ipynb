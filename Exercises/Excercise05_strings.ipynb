{
 "cells": [
  {
   "cell_type": "markdown",
   "source": [
    "# 1. Counting letters"
   ],
   "metadata": {}
  },
  {
   "cell_type": "code",
   "execution_count": 1,
   "source": [
    "word = input(\"Input a word\")\r\n",
    "uppercase = 0\r\n",
    "lowercase = 0\r\n",
    "\r\n",
    "print(f\"Length of word is: {len(word)}\")\r\n",
    "\r\n",
    "for letter in word:\r\n",
    "    if letter.isupper():\r\n",
    "        uppercase+=1\r\n",
    "    if letter.islower():\r\n",
    "        lowercase+=1\r\n",
    "\r\n",
    "print(f\"# lowercase letters: {lowercase}\")\r\n",
    "print(f\"# uppercase letters: {uppercase}\")\r\n"
   ],
   "outputs": [
    {
     "output_type": "stream",
     "name": "stdout",
     "text": [
      "Length of word is: 5\n",
      "# lowercase letters: 2\n",
      "# uppercase letters: 3\n"
     ]
    }
   ],
   "metadata": {}
  },
  {
   "cell_type": "code",
   "execution_count": 2,
   "source": [
    "sentence = \"A picture says more than a thousand words, a matematical formula says more than a thousand pictures.\"\r\n",
    "new_word = \"\"\r\n",
    "for word in sentence:\r\n",
    "    new_word += letter\r\n",
    "\r\n",
    "print(new_word)"
   ],
   "outputs": [
    {
     "output_type": "stream",
     "name": "stdout",
     "text": [
      "OOOOOOOOOOOOOOOOOOOOOOOOOOOOOOOOOOOOOOOOOOOOOOOOOOOOOOOOOOOOOOOOOOOOOOOOOOOOOOOOOOOOOOOOOOOOOOOOOOOO\n"
     ]
    }
   ],
   "metadata": {}
  }
 ],
 "metadata": {
  "orig_nbformat": 4,
  "language_info": {
   "name": "python",
   "version": "3.9.6",
   "mimetype": "text/x-python",
   "codemirror_mode": {
    "name": "ipython",
    "version": 3
   },
   "pygments_lexer": "ipython3",
   "nbconvert_exporter": "python",
   "file_extension": ".py"
  },
  "kernelspec": {
   "name": "python3",
   "display_name": "Python 3.9.6 64-bit ('python-programmering-LukasKallstrom-luee7lEl': pipenv)"
  },
  "interpreter": {
   "hash": "cdff0bf2e99ce0da2545e0928d541d18e5bc08e21cf263536836a8f75edf8e16"
  }
 },
 "nbformat": 4,
 "nbformat_minor": 2
}