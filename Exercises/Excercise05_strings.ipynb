{
 "cells": [
  {
   "cell_type": "markdown",
   "source": [
    "# 1. Counting letters"
   ],
   "metadata": {}
  },
  {
   "cell_type": "code",
   "execution_count": 1,
   "source": [
    "word = input(\"Input a word\")\r\n",
    "uppercase = 0\r\n",
    "lowercase = 0\r\n",
    "\r\n",
    "print(f\"Length of word is: {len(word)}\")\r\n",
    "\r\n",
    "for letter in word:\r\n",
    "    if letter.isupper():\r\n",
    "        uppercase+=1\r\n",
    "    if letter.islower():\r\n",
    "        lowercase+=1\r\n",
    "\r\n",
    "print(f\"# lowercase letters: {lowercase}\")\r\n",
    "print(f\"# uppercase letters: {uppercase}\")\r\n"
   ],
   "outputs": [
    {
     "output_type": "stream",
     "name": "stdout",
     "text": [
      "Length of word is: 5\n",
      "# lowercase letters: 2\n",
      "# uppercase letters: 3\n"
     ]
    }
   ],
   "metadata": {}
  },
  {
   "cell_type": "markdown",
   "source": [
    "# 2. Counting Words"
   ],
   "metadata": {}
  },
  {
   "cell_type": "code",
   "execution_count": 13,
   "source": [
    "sentence = \"A picture says more than a thousand words, a matematical formula says more than a thousand pictures.\".split(\" \")\r\n",
    "print((f\"Length of sentence is: {len(sentence)}\"))"
   ],
   "outputs": [
    {
     "output_type": "stream",
     "name": "stdout",
     "text": [
      "Length of sentence is: 17\n"
     ]
    }
   ],
   "metadata": {}
  },
  {
   "cell_type": "markdown",
   "source": [
    "# 3. Palindrome"
   ],
   "metadata": {}
  },
  {
   "cell_type": "code",
   "execution_count": 21,
   "source": [
    "sentence = input(\"Input a sentence: \")\r\n",
    "\r\n",
    "if sentence == sentence[::-1]:\r\n",
    "    print(\"This is a palindrome\")\r\n",
    "else:\r\n",
    "    print(\"This is not a palindrome\")\r\n",
    "\r\n",
    "\r\n"
   ],
   "outputs": [
    {
     "output_type": "stream",
     "name": "stdout",
     "text": [
      "This is a palindrome\n"
     ]
    }
   ],
   "metadata": {}
  },
  {
   "cell_type": "markdown",
   "source": [
    "# 4. Vowels"
   ],
   "metadata": {}
  },
  {
   "cell_type": "code",
   "execution_count": 31,
   "source": [
    "sentence = \"Pure mathematics is, in its way, the poetry of logical ideas\"\r\n",
    "vowels = \"a o e i u y\".split()\r\n",
    "vowels_ = 0\r\n",
    "for letter in sentence:\r\n",
    "    if letter in vowels:\r\n",
    "        vowels_ +=1\r\n",
    "\r\n",
    "print(f\"Vowels in sentece: {vowels_}\")\r\n",
    "\r\n"
   ],
   "outputs": [
    {
     "output_type": "stream",
     "name": "stdout",
     "text": [
      "Vowels in sentece: 22\n"
     ]
    }
   ],
   "metadata": {}
  },
  {
   "cell_type": "markdown",
   "source": [
    "# 5. Encryption"
   ],
   "metadata": {}
  },
  {
   "cell_type": "code",
   "execution_count": 6,
   "source": [
    "\r\n",
    "answer = input(\"Do you want to encrypt or decrypt your word? (d/e): \")\r\n",
    "word = input(\"What word do you want to use?: \")\r\n",
    "word = word.lower()\r\n",
    "print(f\"{word} -> \",end=\"\")\r\n",
    "\r\n",
    "if answer == 'e':\r\n",
    "    for letter in word:\r\n",
    "        if letter == \"z\":\r\n",
    "            newletter = \"a\"\r\n",
    "        else:\r\n",
    "            newletter = chr(ord(letter)+1)\r\n",
    "        print(newletter, end = \"\")\r\n",
    "if answer == 'd':\r\n",
    "    for letter in word:\r\n",
    "        if letter == \"a\":\r\n",
    "            newletter = \"z\"\r\n",
    "        else:\r\n",
    "            newletter = chr(ord(letter)-1)\r\n",
    "        print(newletter, end = \"\")\r\n"
   ],
   "outputs": [
    {
     "output_type": "stream",
     "name": "stdout",
     "text": [
      "zebra -> afcsb"
     ]
    }
   ],
   "metadata": {}
  }
 ],
 "metadata": {
  "orig_nbformat": 4,
  "language_info": {
   "name": "python",
   "version": "3.9.7",
   "mimetype": "text/x-python",
   "codemirror_mode": {
    "name": "ipython",
    "version": 3
   },
   "pygments_lexer": "ipython3",
   "nbconvert_exporter": "python",
   "file_extension": ".py"
  },
  "kernelspec": {
   "name": "python3",
   "display_name": "Python 3.9.7 64-bit ('python-programmering-LukasKallstrom-az359LF-': pipenv)"
  },
  "interpreter": {
   "hash": "f6559a078d0646459de2a810a6153f3a088abdfb0a4233823ce3deb6d84cdd34"
  }
 },
 "nbformat": 4,
 "nbformat_minor": 2
}