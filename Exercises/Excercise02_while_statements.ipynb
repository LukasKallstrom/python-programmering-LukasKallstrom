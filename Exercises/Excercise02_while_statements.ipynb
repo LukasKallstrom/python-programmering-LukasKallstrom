{
 "cells": [
  {
   "cell_type": "markdown",
   "source": [
    "# 1. Count numbers"
   ],
   "metadata": {}
  },
  {
   "cell_type": "code",
   "execution_count": 3,
   "source": [
    "n = -10\r\n",
    "\r\n",
    "while n <= 10:\r\n",
    "    print(n, end = \", \")\r\n",
    "    n+=1"
   ],
   "outputs": [
    {
     "output_type": "stream",
     "name": "stdout",
     "text": [
      "-10, -9, -8, -7, -6, -5, -4, -3, -2, -1, 0, 1, 2, 3, 4, 5, 6, 7, 8, 9, 10, "
     ]
    }
   ],
   "metadata": {}
  },
  {
   "cell_type": "markdown",
   "source": [
    "# 2. Arithetic sum"
   ],
   "metadata": {}
  },
  {
   "cell_type": "code",
   "execution_count": 5,
   "source": [
    "sum_all = 0\r\n",
    "sum_odd = 0\r\n",
    "n = 1\r\n",
    "i = 0\r\n",
    "\r\n",
    "while n <= 100:\r\n",
    "    sum_all += n\r\n",
    "    n+=1\r\n",
    "\r\n",
    "n = 1\r\n",
    "\r\n",
    "while n <= 100:\r\n",
    "    sum_odd += n\r\n",
    "    n +=2\r\n",
    "print(f\"Summa alla siffor: {sum_all}. Summa ojämna siffor: {sum_odd}.\")\r\n"
   ],
   "outputs": [
    {
     "output_type": "stream",
     "name": "stdout",
     "text": [
      "Summa alla siffor: 5050. Summa ojämna siffor: 2500.\n"
     ]
    }
   ],
   "metadata": {}
  },
  {
   "cell_type": "markdown",
   "source": [
    "# 3. Guess number game"
   ],
   "metadata": {}
  },
  {
   "cell_type": "code",
   "execution_count": 84,
   "source": [
    "import random as rnd\r\n",
    "\r\n",
    "number = rnd.randint(1, 100)\r\n",
    "print(number)\r\n",
    "\r\n",
    "guess = float(input(\"Guess a whole number between 1-100: \"))\r\n",
    "\r\n",
    "while guess != number:\r\n",
    "    print(f\"Guess: {guess:.0f}\")\r\n",
    "    print(\"Wrong! Guess again!\")\r\n",
    "    if number > guess:\r\n",
    "        guess = float(input(\"Guess higher: \"))\r\n",
    "    else:\r\n",
    "        guess = float(input(\"Guess lower: \"))\r\n",
    "print(f\"Correct! The number was {number}!\")"
   ],
   "outputs": [
    {
     "output_type": "stream",
     "name": "stdout",
     "text": [
      "18\n",
      "Guess: 20\n",
      "Wrong! Guess again!\n",
      "Correct! The number was 18!\n"
     ]
    }
   ],
   "metadata": {}
  },
  {
   "cell_type": "markdown",
   "source": [
    "### A/"
   ],
   "metadata": {}
  },
  {
   "cell_type": "code",
   "execution_count": 57,
   "source": [
    "# This alghorithm (called Divide and Conquer) uses high and low ranges that changes as the program guesses\r\n",
    "# and dynamically changes the range in which it guesses automatically\r\n",
    "# This alghorithm will always guess the number in 6 or less turns\r\n",
    "\r\n",
    "import random as rnd\r\n",
    "import math\r\n",
    "\r\n",
    "number = rnd.randint(1, 100)\r\n",
    "print(f\"Random number: {number}\")\r\n",
    "low_range = 1\r\n",
    "high_range = 100\r\n",
    "possible_guesses = high_range + low_range-1\r\n",
    "guess = 0\r\n",
    "\r\n",
    "while guess != number:\r\n",
    "    possible_guesses = high_range + low_range - 1  \r\n",
    "    guess = int(math.ceil(possible_guesses / 2))\r\n",
    "    print(guess)\r\n",
    "\r\n",
    "    if number > guess:\r\n",
    "        low_range = guess + 1   # When the guess is too low, the low range changes to your guess + 1 and removes 50% of the possible guesses\r\n",
    "        print(\"Wrong! Guess again!\")\r\n",
    "        \r\n",
    "    elif number < guess:\r\n",
    "        high_range = guess -1   # When the guess is too high, the low range changes to your guess -1 and removes 50% of the possible guesses\r\n",
    "        print(\"Wrong! Guess again!\")\r\n",
    "\r\n",
    "    else:\r\n",
    "        print(f\"Correct! The number was {number}!\")\r\n",
    "        \r\n"
   ],
   "outputs": [
    {
     "output_type": "stream",
     "name": "stdout",
     "text": [
      "Random number: 40\n",
      "50\n",
      "Wrong! Guess again!\n",
      "25\n",
      "Wrong! Guess again!\n",
      "37\n",
      "Wrong! Guess again!\n",
      "43\n",
      "Wrong! Guess again!\n",
      "40\n",
      "Correct! The number was 40!\n"
     ]
    }
   ],
   "metadata": {}
  },
  {
   "cell_type": "markdown",
   "source": [
    "# 4. Multiplication game"
   ],
   "metadata": {}
  },
  {
   "cell_type": "code",
   "execution_count": 73,
   "source": [
    "import random as rnd\r\n",
    "\r\n",
    "play_flag = 1\r\n",
    "guess = 0\r\n",
    "answer = \"N\"\r\n",
    "lowest_number = 1\r\n",
    "highest_number = 10\r\n",
    "print(\"This is a multiplication game\")\r\n",
    "\r\n",
    "while play_flag == 1:\r\n",
    "\r\n",
    "    x = rnd.randint(lowest_number, highest_number)\r\n",
    "    y = rnd.randint(lowest_number, highest_number)\r\n",
    "    sum = x * y\r\n",
    "    guess = int(input(f\"What is {x} x {y}?: \"))\r\n",
    "    if guess == sum:\r\n",
    "        print(\"Correct!\")\r\n",
    "    else:\r\n",
    "        print(f\"No, the answer is {sum}\") \r\n",
    "    answer = input(\"Do you want to play again? (Y/N): \")\r\n",
    "    if answer == 'y' or answer == 'Y':\r\n",
    "        play_flag = 1\r\n",
    "    else:\r\n",
    "        play_flag = 0      \r\n",
    "\r\n"
   ],
   "outputs": [
    {
     "output_type": "stream",
     "name": "stdout",
     "text": [
      "This is a multiplication game\n",
      "Correct!\n"
     ]
    }
   ],
   "metadata": {}
  },
  {
   "cell_type": "markdown",
   "source": [
    "# 5. Markdown"
   ],
   "metadata": {}
  },
  {
   "cell_type": "markdown",
   "source": [
    "### A)"
   ],
   "metadata": {}
  },
  {
   "cell_type": "code",
   "execution_count": 1,
   "source": [
    "n = int(input(\"Input N: \"))\r\n",
    "sum = 0\r\n",
    "i = 0\r\n",
    "\r\n",
    "while n >= i:\r\n",
    "    sum += 1/(2**i)\r\n",
    "    i+=1\r\n",
    "print(f\"The sum is {sum}\")"
   ],
   "outputs": [
    {
     "output_type": "stream",
     "name": "stdout",
     "text": [
      "The sum is 2.0\n"
     ]
    }
   ],
   "metadata": {}
  },
  {
   "cell_type": "markdown",
   "source": [
    "### B)"
   ],
   "metadata": {}
  },
  {
   "cell_type": "code",
   "execution_count": 21,
   "source": [
    "n = int(input(\"Input N: \"))\r\n",
    "sum = 0\r\n",
    "i = 0\r\n",
    "\r\n",
    "while n >= i:\r\n",
    "    sum -= (-1**2)/(2*n +1)\r\n",
    "    i+=1\r\n",
    "print(f\"The sum is {sum}\")"
   ],
   "outputs": [
    {
     "output_type": "stream",
     "name": "stdout",
     "text": [
      "The sum is 0.5000002499945463\n"
     ]
    }
   ],
   "metadata": {}
  }
 ],
 "metadata": {
  "orig_nbformat": 4,
  "language_info": {
   "name": "python",
   "version": "3.9.6",
   "mimetype": "text/x-python",
   "codemirror_mode": {
    "name": "ipython",
    "version": 3
   },
   "pygments_lexer": "ipython3",
   "nbconvert_exporter": "python",
   "file_extension": ".py"
  },
  "kernelspec": {
   "name": "python3",
   "display_name": "Python 3.9.6 64-bit ('python-programmering-LukasKallstrom-luee7lEl': pipenv)"
  },
  "interpreter": {
   "hash": "cdff0bf2e99ce0da2545e0928d541d18e5bc08e21cf263536836a8f75edf8e16"
  }
 },
 "nbformat": 4,
 "nbformat_minor": 2
}