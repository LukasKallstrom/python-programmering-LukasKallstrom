{
 "cells": [
  {
   "cell_type": "markdown",
   "source": [
    "# 1. Area"
   ],
   "metadata": {}
  },
  {
   "cell_type": "code",
   "execution_count": 1,
   "source": [
    "def triangle_area (base, height):\r\n",
    "    return base*height/2\r\n",
    "triangle_area(10,10)"
   ],
   "outputs": [
    {
     "output_type": "execute_result",
     "data": {
      "text/plain": [
       "50.0"
      ]
     },
     "metadata": {},
     "execution_count": 1
    }
   ],
   "metadata": {}
  },
  {
   "cell_type": "markdown",
   "source": [
    "# 2. Euclidean distance"
   ],
   "metadata": {}
  },
  {
   "cell_type": "code",
   "execution_count": 13,
   "source": [
    "import math\r\n",
    "points = ((10, 3), (-1, -9), (10, -10), (4, -2), (9, -10))\r\n",
    "def distance(P,Q):\r\n",
    "    dist = math.sqrt(((P[0]-Q[0])**2)+(P[1]-Q[1])**2)\r\n",
    "    return dist\r\n",
    "\r\n",
    "x1 = input(\"Input x1 (p1 p2): \").split()\r\n",
    "x1 = [int(i) for i in x1]\r\n",
    "x2 = input(\"Input x2 (p1 p2): \").split()\r\n",
    "x2 = [int(i) for i in x2]\r\n",
    "\r\n",
    "print(f\"Distance between {x1} and {x2}:: {distance(x1,x2):.2f}\")\r\n",
    "\r\n",
    "for i, cor in enumerate(points):\r\n",
    "    print(f\"Distance between {cor} and (0, 0): \",end=\"\")\r\n",
    "    print(f\"{distance(points[i], (0,0)):.2f}\")"
   ],
   "outputs": [
    {
     "output_type": "stream",
     "name": "stdout",
     "text": [
      "Distance between [3, 3] and [8, 5]:: 5.4\n",
      "Distance between (10, 3) and (0, 0): 10.4\n",
      "Distance between (-1, -9) and (0, 0): 9.1\n",
      "Distance between (10, -10) and (0, 0): 14.1\n",
      "Distance between (4, -2) and (0, 0): 4.5\n",
      "Distance between (9, -10) and (0, 0): 13.5\n"
     ]
    }
   ],
   "metadata": {}
  },
  {
   "cell_type": "markdown",
   "source": [
    "# 3. Mathematical Functions"
   ],
   "metadata": {}
  },
  {
   "cell_type": "code",
   "execution_count": 21,
   "source": [
    "import matplotlib.pyplot as plt\r\n",
    "import numpy as np\r\n",
    "def f(x):\r\n",
    "    return (x**2)-3\r\n",
    "g = lambda x: 4*x -7\r\n",
    "\r\n",
    "\r\n",
    "x = np.linspace(-10,10)\r\n",
    "\r\n",
    "plt.plot(x, f(x))\r\n",
    "plt.plot(x, g(x))\r\n",
    "plt.xlabel(\"X\")\r\n",
    "plt.ylabel(\"Y\")\r\n",
    "plt.title=\"\"\r\n",
    "\r\n"
   ],
   "outputs": [
    {
     "output_type": "display_data",
     "data": {
      "image/png": "[encoded data removed]",
      "text/plain": [
       "<Figure size 432x288 with 1 Axes>"
      ]
     },
     "metadata": {
      "needs_background": "light"
     }
    }
   ],
   "metadata": {}
  },
  {
   "cell_type": "markdown",
   "source": [
    "# 4. Name cleaner"
   ],
   "metadata": {}
  },
  {
   "cell_type": "code",
   "execution_count": 45,
   "source": [
    "name_list = [\"  MaRcUs \", \" iDA aNderSon\", \"OLOF Olofsson            \"  ]\r\n",
    "def name_cleaner(list_of_names):\r\n",
    "    for i, name in enumerate(list_of_names):\r\n",
    "        list_of_names[i] = list_of_names[i].title()\r\n",
    "        list_of_names[i] = list_of_names[i].strip()\r\n",
    "\r\n",
    "name_cleaner(name_list)\r\n",
    "print(name_list)"
   ],
   "outputs": [
    {
     "output_type": "stream",
     "name": "stdout",
     "text": [
      "['Marcus', 'Ida Anderson', 'Olof Olofsson']\n"
     ]
    }
   ],
   "metadata": {}
  },
  {
   "cell_type": "markdown",
   "source": [
    "# 5. Change"
   ],
   "metadata": {}
  },
  {
   "cell_type": "code",
   "execution_count": 1,
   "source": [
    "sedlar = {1000:0,500:0,200:0,100:0,50:0,20:0,10:0,5:0,2:0,1:0}\r\n",
    "while True:\r\n",
    "    try:\r\n",
    "        x = int(input(\"Please input a value: \"))\r\n",
    "        if x < 0:\r\n",
    "            print(\"Please insert a whole number larger than 0\")\r\n",
    "        else:\r\n",
    "            break\r\n",
    "    except ValueError as err:\r\n",
    "        print(err)\r\n",
    "\r\n",
    "\r\n",
    "print(f\"{x}kr blir:\")\r\n",
    "\r\n",
    "def change(value):\r\n",
    "    while value > 0:\r\n",
    "        for sedel in sedlar:\r\n",
    "            if value - sedel >= 0:\r\n",
    "                sedlar[sedel] +=1\r\n",
    "                value-=sedel\r\n",
    "                break\r\n",
    "change(x)\r\n",
    "for i, (k, v) in enumerate(sedlar.items()):\r\n",
    "    if v > 0:\r\n",
    "        if v == 10 or v == 5 or v == 2 or v == 1:\r\n",
    "            print(f\"{k} kronor: {v}st\") \r\n",
    "        else: \r\n",
    "            print(f\"{k} lappar: {v}st\")   \r\n"
   ],
   "outputs": [
    {
     "output_type": "stream",
     "name": "stdout",
     "text": [
      "937kr blir:\n",
      "500 kronor: 1st\n",
      "200 kronor: 2st\n",
      "20 kronor: 1st\n",
      "10 kronor: 1st\n",
      "5 kronor: 1st\n",
      "2 kronor: 1st\n"
     ]
    }
   ],
   "metadata": {}
  }
 ],
 "metadata": {
  "orig_nbformat": 4,
  "language_info": {
   "name": "python",
   "version": "3.9.7",
   "mimetype": "text/x-python",
   "codemirror_mode": {
    "name": "ipython",
    "version": 3
   },
   "pygments_lexer": "ipython3",
   "nbconvert_exporter": "python",
   "file_extension": ".py"
  },
  "kernelspec": {
   "name": "python3",
   "display_name": "Python 3.9.7 64-bit ('python-programmering-LukasKallstrom-az359LF-': pipenv)"
  },
  "interpreter": {
   "hash": "f6559a078d0646459de2a810a6153f3a088abdfb0a4233823ce3deb6d84cdd34"
  }
 },
 "nbformat": 4,
 "nbformat_minor": 2
}