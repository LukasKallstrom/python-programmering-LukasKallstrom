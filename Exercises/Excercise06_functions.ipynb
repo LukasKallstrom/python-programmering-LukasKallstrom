{
 "cells": [
  {
   "cell_type": "markdown",
   "source": [
    "# 1. Area"
   ],
   "metadata": {}
  },
  {
   "cell_type": "code",
   "execution_count": 1,
   "source": [
    "def triangle_area (base, height):\r\n",
    "    return base*height/2\r\n",
    "triangle_area(10,10)"
   ],
   "outputs": [
    {
     "output_type": "execute_result",
     "data": {
      "text/plain": [
       "50.0"
      ]
     },
     "metadata": {},
     "execution_count": 1
    }
   ],
   "metadata": {}
  },
  {
   "cell_type": "markdown",
   "source": [
    "# 2. Euclidean distance"
   ],
   "metadata": {}
  },
  {
   "cell_type": "code",
   "execution_count": 13,
   "source": [
    "import math\r\n",
    "points = ((10, 3), (-1, -9), (10, -10), (4, -2), (9, -10))\r\n",
    "def distance(P,Q):\r\n",
    "    dist = math.sqrt(((P[0]-Q[0])**2)+(P[1]-Q[1])**2)\r\n",
    "    return dist\r\n",
    "\r\n",
    "x1 = input(\"Input x1 (p1 p2): \").split()\r\n",
    "x1 = [int(i) for i in x1]\r\n",
    "x2 = input(\"Input x2 (p1 p2): \").split()\r\n",
    "x2 = [int(i) for i in x2]\r\n",
    "\r\n",
    "print(f\"Distance between {x1} and {x2}:: {distance(x1,x2):.2f}\")\r\n",
    "\r\n",
    "for i, cor in enumerate(points):\r\n",
    "    print(f\"Distance between {cor} and (0, 0): \",end=\"\")\r\n",
    "    print(f\"{distance(points[i], (0,0)):.2f}\")"
   ],
   "outputs": [
    {
     "output_type": "stream",
     "name": "stdout",
     "text": [
      "Distance between [3, 3] and [8, 5]:: 5.4\n",
      "Distance between (10, 3) and (0, 0): 10.4\n",
      "Distance between (-1, -9) and (0, 0): 9.1\n",
      "Distance between (10, -10) and (0, 0): 14.1\n",
      "Distance between (4, -2) and (0, 0): 4.5\n",
      "Distance between (9, -10) and (0, 0): 13.5\n"
     ]
    }
   ],
   "metadata": {}
  },
  {
   "cell_type": "markdown",
   "source": [],
   "metadata": {}
  },
  {
   "cell_type": "code",
   "execution_count": null,
   "source": [],
   "outputs": [],
   "metadata": {}
  }
 ],
 "metadata": {
  "orig_nbformat": 4,
  "language_info": {
   "name": "python",
   "version": "3.9.7",
   "mimetype": "text/x-python",
   "codemirror_mode": {
    "name": "ipython",
    "version": 3
   },
   "pygments_lexer": "ipython3",
   "nbconvert_exporter": "python",
   "file_extension": ".py"
  },
  "kernelspec": {
   "name": "python3",
   "display_name": "Python 3.9.7 64-bit"
  },
  "interpreter": {
   "hash": "5e71df1f55840a98589cdb412716ee0031dcaedef6d30ef58e6c46256d158b9b"
  }
 },
 "nbformat": 4,
 "nbformat_minor": 2
}