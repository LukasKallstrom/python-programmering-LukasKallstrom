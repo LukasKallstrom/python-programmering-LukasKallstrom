

t1 = Rectangle(x=1,y=1, side1=1, side2=10)
c1 = Circle(1,1,10)