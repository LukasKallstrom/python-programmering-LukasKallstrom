{
 "cells": [
  {
   "cell_type": "code",
   "execution_count": 5,
   "source": [
    "import test as t\r\n",
    "\r\n",
    "t1 = t.Rectangle(x=1,y=1, side1=1, side2=10)\r\n",
    "c1 = t.Circle(1,1,10)\r\n"
   ],
   "outputs": [
    {
     "output_type": "stream",
     "name": "stdout",
     "text": [
      "Radius getter running\n",
      "Radius getter running\n",
      "62.83185307179586\n"
     ]
    }
   ],
   "metadata": {}
  }
 ],
 "metadata": {
  "orig_nbformat": 4,
  "language_info": {
   "name": "python",
   "version": "3.9.6",
   "mimetype": "text/x-python",
   "codemirror_mode": {
    "name": "ipython",
    "version": 3
   },
   "pygments_lexer": "ipython3",
   "nbconvert_exporter": "python",
   "file_extension": ".py"
  },
  "kernelspec": {
   "name": "python3",
   "display_name": "Python 3.9.6 64-bit ('python-programmering-LukasKallstrom-luee7lEl': pipenv)"
  },
  "interpreter": {
   "hash": "cdff0bf2e99ce0da2545e0928d541d18e5bc08e21cf263536836a8f75edf8e16"
  }
 },
 "nbformat": 4,
 "nbformat_minor": 2
}