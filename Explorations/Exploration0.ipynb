{
 "cells": [
  {
   "cell_type": "code",
   "execution_count": 60,
   "source": [
    "from matplotlib import colors\r\n",
    "import matplotlib.pyplot as plt\r\n",
    "import math\r\n",
    "\r\n",
    "def remove_clutter(data:str, x_list:list, y_list:list) -> None:\r\n",
    "        temp_coor = []\r\n",
    "        temp = \"\"\r\n",
    "\r\n",
    "        for line in data:\r\n",
    "            temp = line\r\n",
    "            temp = temp.replace(\"(\",\"\")\r\n",
    "            temp = temp.replace(\")\",\"\")\r\n",
    "            temp = temp.replace(\",\",\"\")\r\n",
    "            temp_coor = temp.split()\r\n",
    "            x_list.append(float(temp_coor[0]))\r\n",
    "            y_list.append(float(temp_coor[1]))\r\n",
    "\r\n",
    "def plot_data(data:str, color:str):\r\n",
    "    remove_clutter(data)\r\n",
    "    plt.scatter\r\n",
    "\r\n",
    "\r\n",
    "with open(\"../Labs/ClassifyPokemon/files/pichu.txt\", \"r\") as f_pichu, open(\"../Labs/ClassifyPokemon/files/pikachu.txt\", \"r\") as f_pikachu, open(\"../Labs/ClassifyPokemon/files/test_points.txt\", \"r\") as f_testpoints:\r\n",
    "\r\n",
    "    pichu_data = f_pichu.readlines()\r\n",
    "    pikachu_data = f_pikachu.readlines()\r\n",
    "    test_points = f_testpoints.readlines()\r\n",
    "    pichu_data.pop(0)\r\n",
    "    pikachu_data.pop(0)\r\n",
    "    pikachu_x = []\r\n",
    "    pikachu_y = []\r\n",
    "    pichu_x = []\r\n",
    "    pichu_y = []\r\n",
    "    test_points_x = []\r\n",
    "    test_points_y = []\r\n",
    "    \r\n",
    "    \r\n",
    "    remove_clutter(pichu_data, pichu_x, pichu_y)\r\n",
    "    remove_clutter(pikachu_data, pikachu_x, pikachu_y)\r\n",
    "    remove_clutter(test_points, test_points_x, test_points_y)\r\n",
    "\r\n",
    "    plt.scatter(pichu_x, pichu_y, c=\"lime\")\r\n",
    "    plt.scatter(pikachu_x, pikachu_y, c=\"magenta\")\r\n",
    "\r\n",
    "    point = (25, 35)\r\n",
    "    classified_pichu =  []\r\n",
    "    classified_pikachu = []\r\n",
    "    avrg_pichu = 0\r\n",
    "    avrg_pikachu = 0\r\n",
    "    \r\n",
    "        \r\n",
    "    def classify_five_points():\r\n",
    "        for j in range(4):\r\n",
    "            distances_pichu = []\r\n",
    "            distances_pikachu = []\r\n",
    "            for i in range(50):\r\n",
    "                distances_pichu.append(math.sqrt((pichu_x[i] - test_points_x[j])**2 + (pichu_y[i] - test_points_y[j])**2))\r\n",
    "            for i in range(50):\r\n",
    "                distances_pikachu.append(math.sqrt((pikachu_x[i] - test_points_x[j])**2 + (pikachu_y[i] - test_points_y[j])**2))\r\n",
    "\r\n",
    "            distances_pichu.sort()\r\n",
    "            distances_pikachu.sort()\r\n",
    "\r\n",
    "            avrg_pichu = sum(distances_pichu[0:5]) / len(distances_pichu[0:5])\r\n",
    "            avrg_pikachu = sum(distances_pikachu[0:5]) / len(distances_pikachu[0:5])\r\n",
    "\r\n",
    "            if avrg_pichu < avrg_pikachu:\r\n",
    "                print(f\"Sample with (width, height): ({test_points_x[j]:.0f}, {test_points_y[j]:.0f}) classified as Pichu\")\r\n",
    "            else:\r\n",
    "                print(f\"Sample with (width, height): ({test_points_x[j]:.0f}, {test_points_y[j]:.0f}) classified as Pikachu\")\r\n",
    "\r\n",
    "\r\n",
    "    def classify_closest_point():        \r\n",
    "        for j in range(4):\r\n",
    "            distances_pichu = []\r\n",
    "            distances_pikachu = []\r\n",
    "            for i in range(50):\r\n",
    "                distances_pichu.append(math.sqrt((pichu_x[i] - test_points_x[j])**2 + (pichu_y[i] - test_points_y[j])**2))\r\n",
    "            for i in range(50):\r\n",
    "                distances_pikachu.append(math.sqrt((pikachu_x[i] - test_points_x[j])**2 + (pikachu_y[i] - test_points_y[j])**2))\r\n",
    "\r\n",
    "            distances_pichu.sort()\r\n",
    "            distances_pikachu.sort()\r\n",
    "\r\n",
    "            if distances_pichu[0] < distances_pikachu[0]:\r\n",
    "                print(f\"Sample with (width, height): ({test_points_x[j]:.0f}, {test_points_y[j]:.0f}) classified as Pichu\")\r\n",
    "                plt.scatter(test_points_x[j],test_points_y[j], c=\"green\", s=100)\r\n",
    "            else:\r\n",
    "                print(f\"Sample with (width, height): ({test_points_x[j]:.0f}, {test_points_y[j]:.0f}) classified as Pikachu\")\r\n",
    "                plt.scatter(test_points_x[j],test_points_y[j], c=\"firebrick\", s=100)\r\n",
    "    classify_closest_point()\r\n",
    "    plt.legend([\"Pichu\", \"Pikachu\", \"Classified as Pikachu\", \"Classified as Pichu\"])\r\n",
    "\r\n",
    "    "
   ],
   "outputs": [
    {
     "output_type": "stream",
     "name": "stdout",
     "text": [
      "Sample with (width, height): (25, 35) classified as Pikachu\n",
      "Sample with (width, height): (15, 14) classified as Pichu\n",
      "Sample with (width, height): (26, 30) classified as Pichu\n",
      "Sample with (width, height): (22, 45) classified as Pikachu\n"
     ]
    },
    {
     "output_type": "display_data",
     "data": {
      "image/png": "[encoded data removed]",
      "text/plain": [
       "<Figure size 432x288 with 1 Axes>"
      ]
     },
     "metadata": {
      "needs_background": "light"
     }
    }
   ],
   "metadata": {}
  },
  {
   "cell_type": "code",
   "execution_count": null,
   "source": [],
   "outputs": [],
   "metadata": {}
  }
 ],
 "metadata": {
  "orig_nbformat": 4,
  "language_info": {
   "name": "python",
   "version": "3.9.6",
   "mimetype": "text/x-python",
   "codemirror_mode": {
    "name": "ipython",
    "version": 3
   },
   "pygments_lexer": "ipython3",
   "nbconvert_exporter": "python",
   "file_extension": ".py"
  },
  "kernelspec": {
   "name": "python3",
   "display_name": "Python 3.9.6 64-bit ('python-programmering-LukasKallstrom-luee7lEl': pipenv)"
  },
  "interpreter": {
   "hash": "cdff0bf2e99ce0da2545e0928d541d18e5bc08e21cf263536836a8f75edf8e16"
  }
 },
 "nbformat": 4,
 "nbformat_minor": 2
}