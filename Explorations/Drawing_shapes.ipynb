{
 "cells": [
  {
   "cell_type": "code",
   "execution_count": 12,
   "source": [
    "import matplotlib.pyplot as plt\r\n",
    "\r\n",
    "x = (0.5, 0.5)\r\n",
    "figure, axes = plt.subplots()\r\n",
    "draw_circle = plt.Circle(x, 0.3)    \r\n",
    "\r\n",
    "\r\n",
    "axes.set_aspect(1)\r\n",
    "axes.add_artist(draw_circle)\r\n",
    "plt.title('Circle')\r\n",
    "plt.show()"
   ],
   "outputs": [
    {
     "output_type": "display_data",
     "data": {
      "image/png": "[encoded data removed]",
      "text/plain": [
       "<Figure size 432x288 with 1 Axes>"
      ]
     },
     "metadata": {
      "needs_background": "light"
     }
    }
   ],
   "metadata": {}
  },
  {
   "cell_type": "code",
   "execution_count": 14,
   "source": [
    "n = int(input(\"Ange höjden på triangeln: \"))     \r\n",
    "# TODO hantera felaktiga input\r\n",
    "\r\n",
    "rad =[0, 1, 0]      # Översta raden\r\n",
    "\r\n",
    "# För varje rad i triangeln\r\n",
    "for i in range(n):  \r\n",
    "    # Skriv ut blanksteg för att få till formen\r\n",
    "    print( \"\\n\", ' '*2*(n-i), end='')        \r\n",
    "    # TODO hitta bättre formel. Bredden ickelinjär \r\n",
    "\r\n",
    "    # Skriv ut varje siffra > 0 i raden\r\n",
    "    for j,x in enumerate( rad[1 : -1]):     \r\n",
    "        print(x, end=' '*3)\r\n",
    "    # Skapa nästa rad\r\n",
    "    rad = [0] + [x + rad[j+1] for j,x in enumerate(rad[:-1])] + [0]\r\n",
    "       "
   ],
   "outputs": [
    {
     "output_type": "stream",
     "name": "stdout",
     "text": [
      "\n",
      "                     1   \n",
      "                   1   1   \n",
      "                 1   2   1   \n",
      "               1   3   3   1   \n",
      "             1   4   6   4   1   \n",
      "           1   5   10   10   5   1   \n",
      "         1   6   15   20   15   6   1   \n",
      "       1   7   21   35   35   21   7   1   \n",
      "     1   8   28   56   70   56   28   8   1   \n",
      "   1   9   36   84   126   126   84   36   9   1   "
     ]
    }
   ],
   "metadata": {}
  }
 ],
 "metadata": {
  "orig_nbformat": 4,
  "language_info": {
   "name": "python",
   "version": "3.9.6"
  },
  "kernelspec": {
   "name": "python3",
   "display_name": "Python 3.9.6 64-bit ('python-programmering-LukasKallstrom-luee7lEl': pipenv)"
  },
  "interpreter": {
   "hash": "cdff0bf2e99ce0da2545e0928d541d18e5bc08e21cf263536836a8f75edf8e16"
  }
 },
 "nbformat": 4,
 "nbformat_minor": 2
}