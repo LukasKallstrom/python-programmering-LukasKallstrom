{
 "cells": [
  {
   "cell_type": "code",
   "execution_count": 9,
   "source": [
    "# using property class\r\n",
    "class Celsius:\r\n",
    "    def __init__(self, temperature=0):\r\n",
    "        self.temperature = temperature\r\n",
    "\r\n",
    "    def to_fahrenheit(self):\r\n",
    "        return (self.temperature * 1.8) + 32\r\n",
    "\r\n",
    "    # getter\r\n",
    "    def get_temperature(self):\r\n",
    "        print(\"Getting value...\")\r\n",
    "        return self._temperature\r\n",
    "\r\n",
    "    # setter\r\n",
    "    def set_temperature(self, value):\r\n",
    "        print(\"Setting value...\")\r\n",
    "        if value < -273.15:\r\n",
    "            raise ValueError(\"Temperature below -273.15 is not possible\")\r\n",
    "        self._temperature = value\r\n",
    "\r\n",
    "    # creating a property object\r\n",
    "    temperature = property(get_temperature, set_temperature)\r\n",
    "\r\n",
    "s1 = Celsius(100)\r\n",
    "\r\n",
    "print(s1.to_fahrenheit())"
   ],
   "outputs": [
    {
     "output_type": "stream",
     "name": "stdout",
     "text": [
      "Setting value...\n",
      "Getting value...\n",
      "212.0\n"
     ]
    }
   ],
   "metadata": {}
  }
 ],
 "metadata": {
  "orig_nbformat": 4,
  "language_info": {
   "name": "python",
   "version": "3.9.7",
   "mimetype": "text/x-python",
   "codemirror_mode": {
    "name": "ipython",
    "version": 3
   },
   "pygments_lexer": "ipython3",
   "nbconvert_exporter": "python",
   "file_extension": ".py"
  },
  "kernelspec": {
   "name": "python3",
   "display_name": "Python 3.9.7 64-bit ('python-programmering-LukasKallstrom-az359LF-': pipenv)"
  },
  "interpreter": {
   "hash": "f6559a078d0646459de2a810a6153f3a088abdfb0a4233823ce3deb6d84cdd34"
  }
 },
 "nbformat": 4,
 "nbformat_minor": 2
}