{
 "cells": [
  {
   "cell_type": "markdown",
   "source": [
    "# Strings"
   ],
   "metadata": {}
  },
  {
   "cell_type": "markdown",
   "source": [
    "## Concatenateing strings"
   ],
   "metadata": {}
  },
  {
   "cell_type": "code",
   "execution_count": 6,
   "source": [
    "firstname = \"Lukas\"\r\n",
    "lastname = \"Källström\"\r\n",
    "\r\n",
    "# Concatenating strings\r\n",
    "fullname = firstname + \" \" + lastname\r\n",
    "\r\n",
    "print(fullname)\r\n",
    "\r\n",
    "school = \"IT-högskolan\"\r\n",
    "adress = \"Ebbe Lierbathsgatan 18C\"\r\n",
    "phone = \"112\"\r\n",
    "\r\n",
    "# Multiline f-string\r\n",
    "contact_details = f\"\"\"\r\n",
    "Name, {fullname}\r\n",
    "School, {school}\r\n",
    "Adress, {adress}\r\n",
    "Phone, {phone}\r\n",
    "\"\"\"\r\n",
    "print(contact_details)\r\n"
   ],
   "outputs": [
    {
     "output_type": "stream",
     "name": "stdout",
     "text": [
      "Lukas Källström\n",
      "\n",
      "Name, Lukas Källström\n",
      "School, IT-högskolan\n",
      "Adress, Ebbe Lierbathsgatan 18C\n",
      "Phone, 112\n",
      "\n"
     ]
    }
   ],
   "metadata": {}
  },
  {
   "cell_type": "markdown",
   "source": [
    "## Concatenate with loop"
   ],
   "metadata": {}
  },
  {
   "cell_type": "code",
   "execution_count": 19,
   "source": [
    "bamba = \"Chili sin carne, Köttbullar, Fisk, Pannkakor, Taco\". split(\", \")\r\n",
    "days = \"Må Ti On To Fr\".split() # split() per default on empty space ''\r\n",
    "\r\n",
    "meny = \"Veckomeny \\n\"\r\n",
    "\r\n",
    "for day, food in zip(days, bamba):\r\n",
    "    meny += f\"{day}: {food} \\n\"\r\n",
    "\r\n",
    "print(meny)"
   ],
   "outputs": [
    {
     "output_type": "stream",
     "name": "stdout",
     "text": [
      "Veckomeny \n",
      "Må: Chili sin carne \n",
      "Ti: Köttbullar \n",
      "On: Fisk \n",
      "To: Pannkakor \n",
      "Fr: Taco \n",
      "\n"
     ]
    }
   ],
   "metadata": {}
  },
  {
   "cell_type": "markdown",
   "source": [
    "### indexing\r\n",
    "\r\n",
    "- indexing with [] operator to access elements\r\n",
    "- slicing operator :"
   ],
   "metadata": {}
  },
  {
   "cell_type": "code",
   "execution_count": 30,
   "source": [
    "quote = \"!False - it's funny because it's True\"\r\n",
    "\r\n",
    "print(f\"quote[0] {quote[0]}\")\r\n",
    "print(f\"quote[-1] {quote[-1]}\")\r\n",
    "print(f\"quote[-4:] {quote[-4:]}\")\r\n",
    "print(f\"quote[1:6] {quote[1:6]}\") # [start:stop-1]\r\n",
    "print(f\"quote[::-1]: {quote[::-1]}\") # [start:stop-1:step]"
   ],
   "outputs": [
    {
     "output_type": "stream",
     "name": "stdout",
     "text": [
      "quote[0] !\n",
      "quote[-1] e\n",
      "quote[-4:] True\n",
      "quote[1:6] False\n",
      "quote[::-1]: eurT s'ti esuaceb ynnuf s'ti - eslaF!\n"
     ]
    }
   ],
   "metadata": {}
  },
  {
   "cell_type": "markdown",
   "source": [
    "## Split strings"
   ],
   "metadata": {}
  },
  {
   "cell_type": "code",
   "execution_count": 40,
   "source": [
    "numbers = input(\"Ange några tal separerade med mellanslag: \").split() # data type is string\r\n",
    "# print(numbers[0] + numbers[1]) # string concatenation \"5\" + \"4\" = \"54\"\r\n",
    "\r\n",
    "numbers = [float(number) for number in numbers if number.isdigit()]\r\n",
    "\r\n",
    "print(numbers)\r\n",
    "mean = sum(numbers)/len(numbers)\r\n",
    "print(f\"Medelvärdet = {mean}\")"
   ],
   "outputs": [
    {
     "output_type": "stream",
     "name": "stdout",
     "text": [
      "[1.0, 2.0, 3.0, 4.0, 5.0, 6.0, 7.0, 8.0]\n",
      "Medelvärdet = 4.5\n"
     ]
    }
   ],
   "metadata": {}
  },
  {
   "cell_type": "markdown",
   "source": [
    "## Regular expression\r\n",
    "\r\n",
    "- find particular patterns in a string\r\n",
    "- e.g. phone numbers, personal numbers, emails .."
   ],
   "metadata": {}
  },
  {
   "cell_type": "code",
   "execution_count": 42,
   "source": [
    "import re\r\n",
    "\r\n",
    "text = \"Mitt telefonnummer är 021-515322, Adas nummer är 041-961039, kennys är 1229-325439\"\r\n",
    "\r\n",
    "match1 = re.findall(r\"\\d\\d\\d-\\d\\d\\d\\d\\d\\d\", text)\r\n",
    "print(match1)\r\n",
    "match2 = re.findall(r\"\\d{3}-\\d{6}\", text)\r\n",
    "print(match2)"
   ],
   "outputs": [
    {
     "output_type": "stream",
     "name": "stdout",
     "text": [
      "['021-515322', '041-961039', '229-325439']\n",
      "['021-515322', '041-961039', '229-325439']\n"
     ]
    }
   ],
   "metadata": {}
  }
 ],
 "metadata": {
  "orig_nbformat": 4,
  "language_info": {
   "name": "python",
   "version": "3.9.6",
   "mimetype": "text/x-python",
   "codemirror_mode": {
    "name": "ipython",
    "version": 3
   },
   "pygments_lexer": "ipython3",
   "nbconvert_exporter": "python",
   "file_extension": ".py"
  },
  "kernelspec": {
   "name": "python3",
   "display_name": "Python 3.9.6 64-bit ('python-programmering-LukasKallstrom-luee7lEl': pipenv)"
  },
  "interpreter": {
   "hash": "cdff0bf2e99ce0da2545e0928d541d18e5bc08e21cf263536836a8f75edf8e16"
  }
 },
 "nbformat": 4,
 "nbformat_minor": 2
}