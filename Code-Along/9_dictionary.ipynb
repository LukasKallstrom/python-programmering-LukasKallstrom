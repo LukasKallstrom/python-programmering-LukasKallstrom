{
 "cells": [
  {
   "cell_type": "markdown",
   "source": [
    "# Dictionary\r\n",
    "\r\n",
    "- key-value pair"
   ],
   "metadata": {}
  },
  {
   "cell_type": "code",
   "execution_count": 8,
   "source": [
    "person = dict(\r\n",
    "    name = \"Lukas\",\r\n",
    "    age = 21.6,\r\n",
    "    work = \"student\",\r\n",
    "    interest = [\"innebandy\",\"Programming\"],\r\n",
    "    likes_job = True\r\n",
    ")\r\n",
    "\r\n",
    "print(f\"person dictionary {person}\")\r\n",
    "print(f\"Personens namn är {person['name']}\") # accessed the value of the key 'name' in person\r\n",
    "print(f\"Personens ålder är {person['age']} år\") # accessed the value of the key 'age' in person\r\n",
    "\r\n",
    "for interest in person[\"interest\"]:\r\n",
    "    print(interest)"
   ],
   "outputs": [
    {
     "output_type": "stream",
     "name": "stdout",
     "text": [
      "person dictionary {'name': 'Lukas', 'age': 21.6, 'work': 'student', 'interest': ['innebandy', 'Programming'], 'likes_job': True}\n",
      "Personens namn är Lukas\n",
      "Personens ålder är 21.6 år\n",
      "innebandy\n",
      "Programming\n"
     ]
    }
   ],
   "metadata": {}
  },
  {
   "cell_type": "code",
   "execution_count": 38,
   "source": [
    "words = {\r\n",
    "    \"data structure\": \"means of storing and organizing data\",\r\n",
    "    \"lambda\": \"anonymous function\",\r\n",
    "    \"class\": \"blueprint for objects\"\r\n",
    "}\r\n",
    "\r\n",
    "print(\"Vi ska lära oss dessa ord\")\r\n",
    "\r\n",
    "for key in words:\r\n",
    "    print(key, end=\", \")\r\n",
    "\r\n",
    "print(f\"\\n\\nGlosa: {'':<15} Betydelse:\")\r\n",
    "for key, value in words.items():\r\n",
    "    print(f\"{key:<22} {value}\")\r\n",
    "\r\n"
   ],
   "outputs": [
    {
     "output_type": "stream",
     "name": "stdout",
     "text": [
      "Vi ska lära oss dessa ord\n",
      "data structure, lambda, class, \n",
      "\n",
      "Glosa:                 Betydelse:\n",
      "data structure         means of storing and organizing data\n",
      "lambda                 anonymous function\n",
      "class                  blueprint for objects\n"
     ]
    }
   ],
   "metadata": {}
  },
  {
   "cell_type": "code",
   "execution_count": 39,
   "source": [
    "words[\"lambda\"] = \"an anonymous function\" # overwrite the previous value for key lambda\r\n",
    "words[\"regression\"] = \"Find a function that best fits observed data\" # adds another key-value\r\n",
    "print(words)"
   ],
   "outputs": [
    {
     "output_type": "stream",
     "name": "stdout",
     "text": [
      "{'data structure': 'means of storing and organizing data', 'lambda': 'an anonymous function', 'class': 'blueprint for objects', 'regression': 'Find a function that best fits observed data'}\n"
     ]
    }
   ],
   "metadata": {}
  },
  {
   "cell_type": "code",
   "execution_count": 46,
   "source": [
    "# F<10, E: 10, D:20, C:30, B:40, A:50\r\n",
    "grade_limits = {}\r\n",
    "grades = list(\"ABCDEF\")\r\n",
    "\r\n",
    "print(grades)\r\n",
    "\r\n",
    "for i, grade in enumerate(grades[::-1]):\r\n",
    "    grade_limits[grade] = i*10\r\n",
    "\r\n",
    "grade_limits[\"F\"] = \"<10\"\r\n",
    "print(grade_limits)"
   ],
   "outputs": [
    {
     "output_type": "stream",
     "name": "stdout",
     "text": [
      "['A', 'B', 'C', 'D', 'E', 'F']\n",
      "{'F': '<10', 'E': 10, 'D': 20, 'C': 30, 'B': 40, 'A': 50}\n"
     ]
    }
   ],
   "metadata": {}
  },
  {
   "cell_type": "markdown",
   "source": [
    "## Dictionary Comprehension"
   ],
   "metadata": {}
  },
  {
   "cell_type": "code",
   "execution_count": 79,
   "source": [
    "import random as rnd\r\n",
    "grade_limits = {grade: i*10 for i,grade in enumerate(\"FEDCBA\")}\r\n",
    "print(grade_limits)\r\n",
    "\r\n",
    "def generate_scores(number_scores):\r\n",
    "    rnd.seed(42)\r\n",
    "    scores = [rnd.randint(0,60) for _ in range(number_scores)]\r\n",
    "    return scores\r\n",
    "scores = generate_scores(5)   \r\n",
    "print(f\"Student scores: {scores}\")\r\n",
    "\r\n",
    "grade_count = {key: 0 for key in grade_limits}\r\n",
    "\r\n",
    "\r\n",
    "for score in scores:\r\n",
    "    for grade, limit, in grade_limits.items():\r\n",
    "        if limit <= score < limit+10:\r\n",
    "            grade_count[grade] += 1\r\n",
    "print(f\"Grade count {grade_count}\")"
   ],
   "outputs": [
    {
     "output_type": "stream",
     "name": "stdout",
     "text": [
      "{'F': 0, 'E': 10, 'D': 20, 'C': 30, 'B': 40, 'A': 50}\n",
      "Student scores: [40, 7, 1, 47, 17]\n",
      "Grade count {'F': 2, 'E': 1, 'D': 0, 'C': 0, 'B': 2, 'A': 0}\n"
     ]
    }
   ],
   "metadata": {}
  }
 ],
 "metadata": {
  "orig_nbformat": 4,
  "language_info": {
   "name": "python",
   "version": "3.9.6",
   "mimetype": "text/x-python",
   "codemirror_mode": {
    "name": "ipython",
    "version": 3
   },
   "pygments_lexer": "ipython3",
   "nbconvert_exporter": "python",
   "file_extension": ".py"
  },
  "kernelspec": {
   "name": "python3",
   "display_name": "Python 3.9.6 64-bit ('python-programmering-LukasKallstrom-luee7lEl': pipenv)"
  },
  "interpreter": {
   "hash": "cdff0bf2e99ce0da2545e0928d541d18e5bc08e21cf263536836a8f75edf8e16"
  }
 },
 "nbformat": 4,
 "nbformat_minor": 2
}