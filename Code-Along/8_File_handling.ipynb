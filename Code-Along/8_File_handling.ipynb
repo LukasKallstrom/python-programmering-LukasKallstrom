{
 "cells": [
  {
   "cell_type": "markdown",
   "source": [
    "# File handling\r\n",
    "\r\n",
    "options\r\n",
    "- \"r\" - read\r\n",
    "- \"a\" - append\r\n",
    "- \"w\" - write\r\n",
    "- \"x\" - create"
   ],
   "metadata": {}
  },
  {
   "cell_type": "code",
   "execution_count": 11,
   "source": [
    "# with -> use this when opening files\r\n",
    "# takes care of error handling\r\n",
    "# takes care of closing down the file\r\n",
    "with open(\"files/quotes.txt\", \"r+\") as f: # \"r\" option -> read file\r\n",
    "    text = f.read()\r\n",
    "\r\n",
    "#print(text)\r\n",
    "print(repr(text))\r\n"
   ],
   "outputs": [
    {
     "output_type": "stream",
     "name": "stdout",
     "text": [
      "'  If     we     knew what it was      we were doing, it would not be called research,          would it?     - Albert Einstein\\n\\nTime is a drug. Too       much of it kills you.  -  Terry Pratchett\\n\\n\\n An expert is a person who       has made all the mistakes that           can be made in a          very narrow field - Niels Bohr\\n\\n   Everything must be made as simple as possible. But not simpler. - Albert Einstein     \\n\\n\\n  Nothing in life                is to be feared, it is only to be understood. Now is the time to understand more, so that we may fear less. - Marie  Curie  \\n\\nIf I have seen further     it is by standing on the shoulders of Giants. - Isaac Newton'\n"
     ]
    }
   ],
   "metadata": {}
  },
  {
   "cell_type": "markdown",
   "source": [
    "## Clean up quotes.txt\r\n",
    "- Inspect quotes.txt\r\n",
    "- Remove leading and trailing whitespaces\r\n",
    "- Remove excessive whitespaces between words\r\n",
    "- Add quote numbers\r\n",
    "- Extract authors"
   ],
   "metadata": {}
  },
  {
   "cell_type": "code",
   "execution_count": 23,
   "source": [
    "path = \"files/quotes.txt\"\r\n",
    "\r\n",
    "with open(path, \"r\") as f1:\r\n",
    "    #quotes = f1.readlines()\r\n",
    "    #print(quotes)\r\n",
    "\r\n",
    "    quotes = [quote.strip(\"\\n\") for quote in f1.readlines()]\r\n",
    "    print(quotes)"
   ],
   "outputs": [
    {
     "output_type": "stream",
     "name": "stdout",
     "text": [
      "['  If     we     knew what it was      we were doing, it would not be called research,          would it?     - Albert Einstein', '', 'Time is a drug. Too       much of it kills you.  -  Terry Pratchett', '', '', ' An expert is a person who       has made all the mistakes that           can be made in a          very narrow field - Niels Bohr', '', '   Everything must be made as simple as possible. But not simpler. - Albert Einstein     ', '', '', '  Nothing in life                is to be feared, it is only to be understood. Now is the time to understand more, so that we may fear less. - Marie  Curie  ', '', 'If I have seen further     it is by standing on the shoulders of Giants. - Isaac Newton']\n"
     ]
    }
   ],
   "metadata": {}
  },
  {
   "cell_type": "code",
   "execution_count": 110,
   "source": [
    "import re\r\n",
    "\r\n",
    "path = \"files/quotes.txt\"\r\n",
    "path_clean = \"files/quotes_clean.txt\"\r\n",
    "i = 1\r\n",
    "with open(path, \"r\") as f1, open(path_clean, \"w\")as f2:\r\n",
    "\r\n",
    "    f2.write(\"Famous quotes\\n\\n\")\r\n",
    "    for quote in f1.readlines():\r\n",
    "        quote = quote.strip(\" \\n\") # removes leading and trailing whitespace and newlines\r\n",
    "        quote = re.sub(\" +\", \" \", quote) # substitues >= 1 whitespaces with one whitespace\r\n",
    "        # (print(repr(quote)))\r\n",
    "        if quote != \"\": # removes empty lines\r\n",
    "            f2.write(f\"{i}. {quote} \\n\")\r\n",
    "            i += 1"
   ],
   "outputs": [],
   "metadata": {}
  },
  {
   "cell_type": "markdown",
   "source": [
    "## Extract authors"
   ],
   "metadata": {}
  },
  {
   "cell_type": "code",
   "execution_count": 111,
   "source": [
    "path_clean = \"files/quotes_clean.txt\"\r\n",
    "\r\n",
    "with open(path_clean, \"r\") as f1, open(path_clean, \"a\") as f2:\r\n",
    "    # print(f1.read())\r\n",
    "    quotes = [quote.strip(\"\\n\") for quote in f1.readlines() if quote[0].isdigit()]\r\n",
    "    #print(quotes)\r\n",
    "    authors = [quote.split()[-2:] for quote in quotes]\r\n",
    "    print(authors)\r\n",
    "    authors = set([\" \".join(author) for author in authors]) # gets unique author\r\n",
    "    print(authors)\r\n",
    "\r\n",
    "    f2.write(\"\\nAuthors: \")\r\n",
    "\r\n",
    "    for author in authors:\r\n",
    "        f2.write(f\"{author}, \")\r\n"
   ],
   "outputs": [
    {
     "output_type": "stream",
     "name": "stdout",
     "text": [
      "[['Albert', 'Einstein'], ['Terry', 'Pratchett'], ['Niels', 'Bohr'], ['Albert', 'Einstein'], ['Marie', 'Curie'], ['Isaac', 'Newton']]\n",
      "{'Albert Einstein', 'Niels Bohr', 'Isaac Newton', 'Terry Pratchett', 'Marie Curie'}\n"
     ]
    }
   ],
   "metadata": {}
  }
 ],
 "metadata": {
  "orig_nbformat": 4,
  "language_info": {
   "name": "python",
   "version": "3.9.6",
   "mimetype": "text/x-python",
   "codemirror_mode": {
    "name": "ipython",
    "version": 3
   },
   "pygments_lexer": "ipython3",
   "nbconvert_exporter": "python",
   "file_extension": ".py"
  },
  "kernelspec": {
   "name": "python3",
   "display_name": "Python 3.9.6 64-bit ('python-programmering-LukasKallstrom-luee7lEl': pipenv)"
  },
  "interpreter": {
   "hash": "cdff0bf2e99ce0da2545e0928d541d18e5bc08e21cf263536836a8f75edf8e16"
  }
 },
 "nbformat": 4,
 "nbformat_minor": 2
}