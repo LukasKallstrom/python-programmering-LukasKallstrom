{
 "cells": [
  {
   "cell_type": "code",
   "execution_count": 4,
   "source": [
    "# skriva ut alla tal mellan -10 och 10\r\n",
    "n = -10\r\n",
    "\r\n",
    "while n <= 10: #Så länge villkoret är sant upprepas while-blocket\r\n",
    "    print(n, end = \", \")\r\n",
    "    n += 1 # Assignment operator, n = n + 1, n++\r\n"
   ],
   "outputs": [
    {
     "output_type": "stream",
     "name": "stdout",
     "text": [
      "-10, -9, -8, -7, -6, -5, -4, -3, -2, -1, 0, 1, 2, 3, 4, 5, 6, 7, 8, 9, 10, "
     ]
    }
   ],
   "metadata": {}
  },
  {
   "cell_type": "code",
   "execution_count": 6,
   "source": [
    "#skriv ut alla jämna tal mellan -10 och 10\r\n",
    "n = -10\r\n",
    "\r\n",
    "while n <= 10:\r\n",
    "    if n % 2 == 0:\r\n",
    "        print(n, end = \", \")\r\n",
    "    n += 1 # Kan också byta ut 1 mot 2"
   ],
   "outputs": [
    {
     "output_type": "stream",
     "name": "stdout",
     "text": [
      "-10, -8, -6, -4, -2, 0, 2, 4, 6, 8, 10, "
     ]
    }
   ],
   "metadata": {}
  },
  {
   "cell_type": "code",
   "execution_count": 15,
   "source": [
    "#sumera alla udda tal mellan 0 och 10\r\n",
    "n = 1\r\n",
    "summa = 0\r\n",
    "\r\n",
    "while n <= 10:\r\n",
    "    if n == 9:\r\n",
    "        print(\"9 = \", end=\"\")\r\n",
    "    else:\r\n",
    "        print(f\"{n} +\", end=\" \")\r\n",
    "    summa += n\r\n",
    "    n +=2\r\n",
    "\r\n",
    "print(summa)\r\n"
   ],
   "outputs": [
    {
     "output_type": "stream",
     "name": "stdout",
     "text": [
      "1 + 3 + 5 + 7 + 9 = 25\n"
     ]
    }
   ],
   "metadata": {}
  },
  {
   "cell_type": "markdown",
   "source": [
    "## Fåglar och oljeutsläpp\r\n",
    "\r\n",
    "- det finns 8000 fåglar från början\r\n",
    "- ett oljeutsläpp gör att populationen halveras varje år\r\n",
    "- hur många år tar det tills fågelpopulationen blivit en tiondel?\r\n"
   ],
   "metadata": {}
  },
  {
   "cell_type": "code",
   "execution_count": 25,
   "source": [
    "birds, year = 8000, 0\r\n",
    "\r\n",
    "while birds >= 800:\r\n",
    "    birds /= 2\r\n",
    "    year += 1\r\n",
    "    print(f\"År {year}: antal fåglar: {birds:.0f}st\")\r\n"
   ],
   "outputs": [
    {
     "output_type": "stream",
     "name": "stdout",
     "text": [
      "År 1: antal fåglar: 4000st\n",
      "År 2: antal fåglar: 2000st\n",
      "År 3: antal fåglar: 1000st\n",
      "År 4: antal fåglar: 500st\n"
     ]
    }
   ],
   "metadata": {}
  },
  {
   "cell_type": "markdown",
   "source": [
    "## Mjölkuppgift\r\n",
    "\r\n",
    "- 1L mjlök har 1 500 000 bakterier i rumstemperaturer\r\n",
    "- Bakterierna ökar med 50% per timme i rumstemperatur\r\n",
    "- Mjölk surnar när vi har mer än 10 000 000st bakterier\r\n",
    "- Hur lång tid tar det tills mjölken surnar? (Hela timmar)"
   ],
   "metadata": {}
  },
  {
   "cell_type": "code",
   "execution_count": 1,
   "source": [
    "import matplotlib\r\n",
    "\r\n",
    "bakterier = 1.5e6 # 1 500 000st\r\n",
    "timmar = 0\r\n",
    "\r\n",
    "while bakterier < 10e6: #10 000 000st\r\n",
    "    bakterier *= 1.5\r\n",
    "    timmar += 1\r\n",
    "    print(f\"Timme {timmar}: {bakterier:.0f} bakterier\")\r\n",
    "print(f\"Det tar {timmar}h för mjölken att surna\")\r\n"
   ],
   "outputs": [
    {
     "output_type": "stream",
     "name": "stdout",
     "text": [
      "Timme 1: 2250000 bakterier\n",
      "Timme 2: 3375000 bakterier\n",
      "Timme 3: 5062500 bakterier\n",
      "Timme 4: 7593750 bakterier\n",
      "Timme 5: 11390625 bakterier\n",
      "Det tar 5h för mjölken att surna\n"
     ]
    }
   ],
   "metadata": {}
  },
  {
   "cell_type": "code",
   "execution_count": null,
   "source": [],
   "outputs": [],
   "metadata": {}
  }
 ],
 "metadata": {
  "orig_nbformat": 4,
  "language_info": {
   "name": "python",
   "version": "3.9.6",
   "mimetype": "text/x-python",
   "codemirror_mode": {
    "name": "ipython",
    "version": 3
   },
   "pygments_lexer": "ipython3",
   "nbconvert_exporter": "python",
   "file_extension": ".py"
  },
  "kernelspec": {
   "name": "python3",
   "display_name": "Python 3.9.6 64-bit ('python-programmering-LukasKallstrom-luee7lEl': pipenv)"
  },
  "interpreter": {
   "hash": "cdff0bf2e99ce0da2545e0928d541d18e5bc08e21cf263536836a8f75edf8e16"
  }
 },
 "nbformat": 4,
 "nbformat_minor": 2
}