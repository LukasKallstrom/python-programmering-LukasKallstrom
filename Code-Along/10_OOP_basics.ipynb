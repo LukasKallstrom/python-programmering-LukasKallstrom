{
 "cells": [
  {
   "cell_type": "code",
   "execution_count": 1,
   "source": [
    "class antagning: # creates a class\r\n",
    "    def __init__(self):\r\n",
    "        pass\r\n",
    "\r\n",
    "\r\n",
    "a1 = antagning() # insansiated an object from the class antagning\r\n",
    "print(a1)"
   ],
   "outputs": [
    {
     "output_type": "stream",
     "name": "stdout",
     "text": [
      "<__main__.antagning object at 0x0000018F024CDEB0>\n"
     ]
    }
   ],
   "metadata": {}
  },
  {
   "cell_type": "code",
   "execution_count": 7,
   "source": [
    "class antagning:\r\n",
    "    # self refers to the object that is created\r\n",
    "    # for functions or methods - positional arguments first, then default parameter UNDERSÖK DETTA MER!!!\r\n",
    "    def __init__(self, school, program, name, accept) -> None:\r\n",
    "        #assign arguments to the objects attributes (egenskaper/variabler)\r\n",
    "        self.school = school\r\n",
    "        self.program = program\r\n",
    "        self.name = name\r\n",
    "        self.accept = accept\r\n",
    "\r\n",
    "person1 = antagning(\"Cool school\", \"AI\", \"Gore Bord\", False) #constructor\r\n",
    "print(person1.name)\r\n",
    "print(person1.school)\r\n",
    "print(person1.__dict__) # dunder dict\r\n"
   ],
   "outputs": [
    {
     "output_type": "stream",
     "name": "stdout",
     "text": [
      "Gore Bord\n",
      "Cool school\n",
      "{'school': 'Cool school', 'program': 'AI', 'name': 'Gore Bord', 'accept': False}\n"
     ]
    }
   ],
   "metadata": {}
  }
 ],
 "metadata": {
  "orig_nbformat": 4,
  "language_info": {
   "name": "python",
   "version": "3.9.7",
   "mimetype": "text/x-python",
   "codemirror_mode": {
    "name": "ipython",
    "version": 3
   },
   "pygments_lexer": "ipython3",
   "nbconvert_exporter": "python",
   "file_extension": ".py"
  },
  "kernelspec": {
   "name": "python3",
   "display_name": "Python 3.9.7 64-bit ('python-programmering-LukasKallstrom-az359LF-': pipenv)"
  },
  "interpreter": {
   "hash": "f6559a078d0646459de2a810a6153f3a088abdfb0a4233823ce3deb6d84cdd34"
  }
 },
 "nbformat": 4,
 "nbformat_minor": 2
}