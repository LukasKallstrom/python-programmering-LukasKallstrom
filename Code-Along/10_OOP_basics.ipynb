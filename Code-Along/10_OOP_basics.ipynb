{
 "cells": [
  {
   "cell_type": "code",
   "execution_count": 1,
   "source": [
    "class antagning: # creates a class\r\n",
    "    def __init__(self):\r\n",
    "        pass\r\n",
    "\r\n",
    "\r\n",
    "a1 = antagning() # insansiated an object from the class antagning\r\n",
    "print(a1)"
   ],
   "outputs": [
    {
     "output_type": "stream",
     "name": "stdout",
     "text": [
      "<__main__.antagning object at 0x0000018F024CDEB0>\n"
     ]
    }
   ],
   "metadata": {}
  },
  {
   "cell_type": "code",
   "execution_count": 12,
   "source": [
    "\r\n",
    "class antagning:\r\n",
    "    # self refers to the object that is created\r\n",
    "    # for functions or methods - positional arguments first, then default parameter UNDERSÖK DETTA MER!!!\r\n",
    "    def __init__(self, school, program, name, accept=False) -> None: # dunder init\r\n",
    "        #assign arguments to the objects attributes (egenskaper/variabler)\r\n",
    "        self.school = school\r\n",
    "        self.program = program\r\n",
    "        self.name = name\r\n",
    "        self.accept = accept\r\n",
    "    def __repr__(self): # dunder __repr__ read: \"repper\"\r\n",
    "        return f\"antagning(school='{self.school}', program='{self.program}', name='{self.name}', accept={self.accept}\"\r\n",
    "\r\n",
    "\r\n",
    "person1 = antagning(\"Cool school\", \"AI\", \"Gore Bord\", False) #constructor\r\n",
    "person2 = antagning(\"IT-Skola\", \"UX\", name = \"Gorat Borat\")\r\n",
    "print(person1.name)\r\n",
    "print(person1.school)\r\n",
    "print(person1.__dict__) # dunder dict\r\n",
    "print(person2.accept)\r\n",
    "print(person2.name)\r\n",
    "\r\n",
    "print(person1)\r\n",
    "print(person2)"
   ],
   "outputs": [
    {
     "output_type": "stream",
     "name": "stdout",
     "text": [
      "Gore Bord\n",
      "Cool school\n",
      "{'school': 'Cool school', 'program': 'AI', 'name': 'Gore Bord', 'accept': False}\n",
      "False\n",
      "Gorat Borat\n",
      "antagning(school='Cool school', program='AI', name='Gore Bord', accept=False\n",
      "antagning(school='IT-Skola', program='UX', name='Gorat Borat', accept=False\n"
     ]
    }
   ],
   "metadata": {}
  },
  {
   "cell_type": "markdown",
   "source": [
    "## Exempel old coins in Sweden\r\n",
    "- dont remember the reference\r\n",
    "- riksdaler och skilling"
   ],
   "metadata": {}
  },
  {
   "cell_type": "code",
   "execution_count": 15,
   "source": [
    "class OldCoinStash:\r\n",
    "    def __init__(self, owner) -> None:\r\n",
    "        # these attributes are public\r\n",
    "        self.owner =  owner\r\n",
    "        self.riksdaler = 0\r\n",
    "        self.skilling = 0\r\n",
    "\r\n",
    "\r\n",
    "stash1 = OldCoinStash(\"Gore Bord\")\r\n",
    "print(stash1.riksdaler)\r\n",
    "stash1.riksdaler = 1000\r\n",
    "print(stash1.riksdaler)"
   ],
   "outputs": [
    {
     "output_type": "stream",
     "name": "stdout",
     "text": [
      "0\n",
      "1000\n"
     ]
    }
   ],
   "metadata": {}
  },
  {
   "cell_type": "markdown",
   "source": [
    "## Encapsulation\r\n",
    "\r\n",
    "- in OOP, you want to encapsulate some information and only show relevant information outwards"
   ],
   "metadata": {}
  },
  {
   "cell_type": "code",
   "execution_count": 10,
   "source": [
    "class OldCoinStash:\r\n",
    "    def __init__(self, owner: str) -> None:\r\n",
    "        # these attributes are public\r\n",
    "        self.owner =  owner\r\n",
    "\r\n",
    "        # private - by convention use underscore prefix\r\n",
    "        self._riksdaler = 0\r\n",
    "        self._skilling = 0\r\n",
    "\r\n",
    "    def deposit(self, riksdaler: float, skilling: float) -> None:\r\n",
    "        if riksdaler <= 0 or skilling <= 0:\r\n",
    "            raise ValueError(f\"Stop depositing negative values. {riksdaler} riksdaler or {skilling} not okay\")\r\n",
    "        \r\n",
    "        self._riksdaler +=riksdaler\r\n",
    "        self._skilling += skilling\r\n",
    "\r\n",
    "    def withdraw(self, riksdaler: float, skilling: float) -> None:\r\n",
    "        if riksdaler > self._riksdaler or skilling > self._skilling:\r\n",
    "            raise ValueError(f\"You cant withdraw more coins than you have\")\r\n",
    "        self._riksdaler -= riksdaler\r\n",
    "        self._skilling -= skilling\r\n",
    "\r\n",
    "    def check_balance(self) -> str:\r\n",
    "        return f\"Coins in stash: {self._riksdaler} riksdaler and {self._skilling} skilling\"\r\n",
    "\r\n",
    "    def __repr__(self) -> str:\r\n",
    "        return f\"OldCoinStash(owner='{self.owner}')\"\r\n",
    "\r\n",
    "stash1 = OldCoinStash(\"Gore bord\")\r\n",
    "print(stash1) # testing __repr__\r\n",
    "print(stash1.check_balance()) # testing check_balance()\r\n",
    "print(stash1.deposit(riksdaler=500, skilling=3000))\r\n",
    "print(stash1.check_balance())\r\n",
    "\r\n",
    "# works but dont do this\r\n",
    "stash1._riksdaler = 100000\r\n",
    "print(stash1.check_balance())\r\n",
    "stash1.__dict__['_riksdaler'] = 10\r\n",
    "print(stash1.check_balance())"
   ],
   "outputs": [
    {
     "output_type": "stream",
     "name": "stdout",
     "text": [
      "OldCoinStash(owner='Gore bord')\n",
      "Coins in stash: 0 riksdaler and 0 skilling\n",
      "None\n",
      "Coins in stash: 500 riksdaler and 3000 skilling\n",
      "Coins in stash: 100000 riksdaler and 3000 skilling\n",
      "Coins in stash: 10 riksdaler and 3000 skilling\n"
     ]
    }
   ],
   "metadata": {}
  },
  {
   "cell_type": "markdown",
   "source": [
    "# Properties"
   ],
   "metadata": {}
  },
  {
   "cell_type": "code",
   "execution_count": 11,
   "source": [
    "class Student:\r\n",
    "    def __init__(self, name:str, age:float, ) -> None:\r\n",
    "        self.name = name \r\n",
    "        self.age = age # note no underscore\r\n",
    "    \r\n",
    "    @property\r\n",
    "    def age(self) -> float:\r\n",
    "        print(\"Age getter is running\")\r\n",
    "        return self._age\r\n",
    "\r\n",
    "    @age.setter\r\n",
    "    def age(self, value:float) -> None:\r\n",
    "        print(\"Age-setter is running\")\r\n",
    "        if not isinstance (value, (int, float)):\r\n",
    "            raise TypeError(f\"Afe must be an int or float not {type(value)}\")\r\n",
    "        \r\n",
    "        if not (0 <= value < 125): \r\n",
    "            raise ValueError(f\"Your age must be between 0 and 124\")\r\n",
    "\r\n",
    "        self._age = value\r\n",
    "\r\n",
    "student1 = Student(\"Gore Bord\", 25)\r\n",
    "print(student1.age)\r\n",
    "print(student1.name)\r\n",
    "\r\n"
   ],
   "outputs": [
    {
     "output_type": "stream",
     "name": "stdout",
     "text": [
      "Age-setter is running\n",
      "Age getter is running\n",
      "25\n",
      "Gore Bord\n"
     ]
    }
   ],
   "metadata": {}
  }
 ],
 "metadata": {
  "orig_nbformat": 4,
  "language_info": {
   "name": "python",
   "version": "3.9.7",
   "mimetype": "text/x-python",
   "codemirror_mode": {
    "name": "ipython",
    "version": 3
   },
   "pygments_lexer": "ipython3",
   "nbconvert_exporter": "python",
   "file_extension": ".py"
  },
  "kernelspec": {
   "name": "python3",
   "display_name": "Python 3.9.7 64-bit ('python-programmering-LukasKallstrom-az359LF-': pipenv)"
  },
  "interpreter": {
   "hash": "f6559a078d0646459de2a810a6153f3a088abdfb0a4233823ce3deb6d84cdd34"
  }
 },
 "nbformat": 4,
 "nbformat_minor": 2
}