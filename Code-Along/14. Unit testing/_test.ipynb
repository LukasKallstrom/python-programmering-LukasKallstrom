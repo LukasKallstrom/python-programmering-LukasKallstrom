{
 "cells": [
  {
   "cell_type": "code",
   "execution_count": 2,
   "source": [
    "from vector import Vector\r\n",
    "\r\n",
    "v1 = Vector(1,1)\r\n",
    "print(v1)"
   ],
   "outputs": [
    {
     "output_type": "stream",
     "name": "stdout",
     "text": [
      "Vector(1.0, 1.0)\n"
     ]
    }
   ],
   "metadata": {}
  }
 ],
 "metadata": {
  "orig_nbformat": 4,
  "language_info": {
   "name": "python",
   "version": "3.9.6",
   "mimetype": "text/x-python",
   "codemirror_mode": {
    "name": "ipython",
    "version": 3
   },
   "pygments_lexer": "ipython3",
   "nbconvert_exporter": "python",
   "file_extension": ".py"
  },
  "kernelspec": {
   "name": "python3",
   "display_name": "Python 3.9.6 64-bit ('python-programmering-LukasKallstrom-luee7lEl': pipenv)"
  },
  "interpreter": {
   "hash": "cdff0bf2e99ce0da2545e0928d541d18e5bc08e21cf263536836a8f75edf8e16"
  }
 },
 "nbformat": 4,
 "nbformat_minor": 2
}