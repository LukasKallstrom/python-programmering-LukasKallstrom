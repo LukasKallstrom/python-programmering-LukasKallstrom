{
 "cells": [
  {
   "cell_type": "markdown",
   "source": [
    "# If-sats"
   ],
   "metadata": {}
  },
  {
   "cell_type": "code",
   "execution_count": 4,
   "source": [
    "age = int(input(\"Hur gammal är du\")) #typomvandlar till heltal\r\n",
    "\r\n",
    "if age < 18:\r\n",
    "    print(\"Du får inte gå till pubben\")\r\n",
    "else:\r\n",
    "    print(\"Du får gå till pubben\")\r\n",
    "\r\n",
    "print(\"Programmet fortsätter här\")"
   ],
   "outputs": [
    {
     "output_type": "stream",
     "name": "stdout",
     "text": [
      "Du får gå till pubben\n"
     ]
    }
   ],
   "metadata": {}
  },
  {
   "cell_type": "code",
   "execution_count": 5,
   "source": [
    "age = 15\r\n",
    "height = 150\r\n",
    "\r\n",
    "#För att få åka balder: åldergräns 11år och höjdgränd 130cm\r\n",
    "\r\n",
    "if age >= 11 and height >= 130:\r\n",
    "    print(\"Du får åka balder\")\r\n",
    "else:\r\n",
    "    print(\"Åk rabalder istället\")\r\n",
    "\r\n",
    "print(\"Ha så kul på liseberg!\")"
   ],
   "outputs": [
    {
     "output_type": "stream",
     "name": "stdout",
     "text": [
      "Du får åka balder\n",
      "Ha så kul på liseberg!\n"
     ]
    }
   ],
   "metadata": {}
  },
  {
   "cell_type": "code",
   "execution_count": 8,
   "source": [
    "age = 15\r\n",
    "height = 129\r\n",
    "\r\n",
    "#För att få åka balder: åldergräns 11år och höjdgränd 130cm\r\n",
    "\r\n",
    "if age >= 11 or height >= 130: #Minst ett av villkoren måste vara sanna\r\n",
    "    print(\"Du får åka balder\")\r\n",
    "else:\r\n",
    "    print(\"Åk rabalder istället\")\r\n",
    "\r\n",
    "print(\"Ha så kul på liseberg!\")"
   ],
   "outputs": [
    {
     "output_type": "stream",
     "name": "stdout",
     "text": [
      "Du får åka balder\n",
      "Ha så kul på liseberg!\n"
     ]
    }
   ],
   "metadata": {}
  },
  {
   "cell_type": "markdown",
   "source": [
    "# Modulusoperator %"
   ],
   "metadata": {}
  },
  {
   "cell_type": "code",
   "execution_count": 15,
   "source": [
    "#Modulusoperatorn % ger resten vid heltalsdivision\r\n",
    "\r\n",
    "number = 19\r\n",
    "\r\n",
    "#Hur checkar vi om number är jämnt eller udda?\r\n",
    "#Dividera talet med 2 och kolla om resten är 0\r\n",
    "\r\n",
    "print(\"rest: \", number%2 ) # 8/2 ger 4 rest 0 och % ger resten\r\n",
    "\r\n",
    "if number % 2 == 0:\r\n",
    "    print(f\"{number} är jämnt\")\r\n",
    "else:\r\n",
    "    print(f\"{number} är udda\")\r\n"
   ],
   "outputs": [
    {
     "output_type": "stream",
     "name": "stdout",
     "text": [
      "rest:  1\n",
      "19 är udda\n"
     ]
    }
   ],
   "metadata": {}
  },
  {
   "cell_type": "code",
   "execution_count": null,
   "source": [],
   "outputs": [],
   "metadata": {}
  }
 ],
 "metadata": {
  "orig_nbformat": 4,
  "language_info": {
   "name": "python",
   "version": "3.9.6",
   "mimetype": "text/x-python",
   "codemirror_mode": {
    "name": "ipython",
    "version": 3
   },
   "pygments_lexer": "ipython3",
   "nbconvert_exporter": "python",
   "file_extension": ".py"
  },
  "kernelspec": {
   "name": "python3",
   "display_name": "Python 3.9.6 64-bit"
  },
  "interpreter": {
   "hash": "0359460f700e627ce88dedeb970a7aa5e04676b9f54c2a233cb78f4fa5dbc6e6"
  }
 },
 "nbformat": 4,
 "nbformat_minor": 2
}