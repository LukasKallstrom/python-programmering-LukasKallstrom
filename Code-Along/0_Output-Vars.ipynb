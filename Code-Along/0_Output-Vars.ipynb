{
 "cells": [
  {
   "cell_type": "markdown",
   "source": [
    "# Input/output and variables"
   ],
   "metadata": {}
  },
  {
   "cell_type": "code",
   "execution_count": 9,
   "source": [
    "# Detta är en kommentar\r\n",
    "name = \"Lukas\" #skapar en variabel, vid namn name, med värded \"Lukas\"\r\n",
    "age = 21 #skapar en variabel, vid namn age, med värdet 21\r\n",
    "\r\n",
    "print(\"Hej\", name, \"!\") # Ett sätt att blanda variabler med print\r\n",
    "print(f\"hej {name}, du är {age} år\") # F-string, (formated string) för att blanda variabler med print\r\n",
    "\r\n",
    "name = \"Daniel\" #Tilldelat nytt värde till variabeln name\r\n",
    "print(f\"Hej {name}\") \r\n",
    "\r\n",
    "name = 30 # Det går också att ändra datatyp, men detta bör inte göras för att behålla tydligheten i variabelnamnen\r\n",
    "print(f\"Hej {name}\")\r\n",
    "\r\n",
    "age = 30.4 #Datatyp float\r\n",
    "print(f\"Mer specefikt är jag {age} år gammal\")"
   ],
   "outputs": [
    {
     "output_type": "stream",
     "name": "stdout",
     "text": [
      "Hej Lukas !\n",
      "hej Lukas, du är 21 år\n",
      "Hej Daniel\n",
      "Hej 30\n",
      "Mer specefikt är jag 30.4 år gammal\n"
     ]
    }
   ],
   "metadata": {}
  },
  {
   "cell_type": "markdown",
   "source": [
    "# Användarinput"
   ],
   "metadata": {}
  },
  {
   "cell_type": "code",
   "execution_count": 12,
   "source": [
    "name = input(\"Vad är ditt namn? \") #Name blir av datatypen sträng\r\n",
    "age = input(\"Hur gammal är du? \") \r\n",
    "\r\n",
    "\r\n",
    "print(f\"Du heter {name}, du är {age} år gammal\")"
   ],
   "outputs": [
    {
     "output_type": "stream",
     "name": "stdout",
     "text": [
      "Du heter Lukas, du är 31 år gammal\n"
     ]
    }
   ],
   "metadata": {}
  },
  {
   "cell_type": "code",
   "execution_count": 14,
   "source": [
    "# F = M * G\r\n",
    "gravity = 9.82\r\n",
    "mass = input(\"Hur mycket väger du? \")\r\n",
    "\r\n",
    "force = mass * gravity #Fungerar ej då mass är en string medans gravity är en float\r\n",
    "\r\n",
    "print(f\"Din tyngd är {force}N\")"
   ],
   "outputs": [
    {
     "output_type": "error",
     "ename": "TypeError",
     "evalue": "can't multiply sequence by non-int of type 'float'",
     "traceback": [
      "\u001b[1;31m---------------------------------------------------------------------------\u001b[0m",
      "\u001b[1;31mTypeError\u001b[0m                                 Traceback (most recent call last)",
      "\u001b[1;32m~\\AppData\\Local\\Temp/ipykernel_12496/4281420543.py\u001b[0m in \u001b[0;36m<module>\u001b[1;34m\u001b[0m\n\u001b[0;32m      3\u001b[0m \u001b[0mmass\u001b[0m \u001b[1;33m=\u001b[0m \u001b[0minput\u001b[0m\u001b[1;33m(\u001b[0m\u001b[1;34m\"Hur mycket väger du? \"\u001b[0m\u001b[1;33m)\u001b[0m\u001b[1;33m\u001b[0m\u001b[1;33m\u001b[0m\u001b[0m\n\u001b[0;32m      4\u001b[0m \u001b[1;33m\u001b[0m\u001b[0m\n\u001b[1;32m----> 5\u001b[1;33m \u001b[0mforce\u001b[0m \u001b[1;33m=\u001b[0m \u001b[0mmass\u001b[0m \u001b[1;33m*\u001b[0m \u001b[0mgravity\u001b[0m\u001b[1;33m\u001b[0m\u001b[1;33m\u001b[0m\u001b[0m\n\u001b[0m\u001b[0;32m      6\u001b[0m \u001b[1;33m\u001b[0m\u001b[0m\n\u001b[0;32m      7\u001b[0m \u001b[0mprint\u001b[0m\u001b[1;33m(\u001b[0m\u001b[1;34mf\"Din tyngd är {force}N\"\u001b[0m\u001b[1;33m)\u001b[0m\u001b[1;33m\u001b[0m\u001b[1;33m\u001b[0m\u001b[0m\n",
      "\u001b[1;31mTypeError\u001b[0m: can't multiply sequence by non-int of type 'float'"
     ]
    }
   ],
   "metadata": {}
  },
  {
   "cell_type": "code",
   "execution_count": 19,
   "source": [
    "gravity = 9.82 \r\n",
    "mass = float(input(f\"Hur mycket väger du? \")) #typomanvdlar från string -> float\r\n",
    "force = mass * gravity\r\n",
    "\r\n",
    "print(f\"Din tyngd är {force}N\")\r\n",
    "print(f\"Din tyngd är {force:.1f}N\") #formaterar till en decimal"
   ],
   "outputs": [
    {
     "output_type": "stream",
     "name": "stdout",
     "text": [
      "Din tyngd är 982.0N\n",
      "Din tyngd är 982.0N\n"
     ]
    }
   ],
   "metadata": {}
  }
 ],
 "metadata": {
  "orig_nbformat": 4,
  "language_info": {
   "name": "python",
   "version": "3.9.6",
   "mimetype": "text/x-python",
   "codemirror_mode": {
    "name": "ipython",
    "version": 3
   },
   "pygments_lexer": "ipython3",
   "nbconvert_exporter": "python",
   "file_extension": ".py"
  },
  "kernelspec": {
   "name": "python3",
   "display_name": "Python 3.9.6 64-bit"
  },
  "interpreter": {
   "hash": "0359460f700e627ce88dedeb970a7aa5e04676b9f54c2a233cb78f4fa5dbc6e6"
  }
 },
 "nbformat": 4,
 "nbformat_minor": 2
}