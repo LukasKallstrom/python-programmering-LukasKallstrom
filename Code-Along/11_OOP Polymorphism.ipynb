{
 "cells": [
  {
   "cell_type": "markdown",
   "source": [
    "# OOP Polymorphism\r\n",
    "- same method names and operators can be used for differerent types"
   ],
   "metadata": {}
  },
  {
   "cell_type": "code",
   "execution_count": 1,
   "source": [
    "s1 = \"abc\"\r\n",
    "l1 = [1,2,3,4]\r\n",
    "print(len(s1))\r\n",
    "print(len(l1))\r\n",
    "\r\n",
    "s2 = s1 + \"5\" #  + operator makes string concatenation\r\n",
    "print(s2)\r\n",
    "\r\n",
    "num1 = 5 + 6 # + operator makes arithetic addition of two integers\r\n",
    "print(num1)"
   ],
   "outputs": [
    {
     "output_type": "stream",
     "name": "stdout",
     "text": [
      "3\n",
      "4\n",
      "abc5\n",
      "11\n"
     ]
    }
   ],
   "metadata": {}
  },
  {
   "cell_type": "code",
   "execution_count": 2,
   "source": [
    "class fish:\r\n",
    "    def __init__(self, name) -> None:\r\n",
    "        self.name = name\r\n",
    "\r\n",
    "    def __str__(self):\r\n",
    "        return f\"I am a fish, my name is {self.name}\"\r\n",
    "    \r\n",
    "    def speak(self):\r\n",
    "        print(\"Blupp blupp\")\r\n",
    "        \r\n",
    "class fox:\r\n",
    "    def __init__(self,name) -> None:\r\n",
    "        self.name = name\r\n",
    "    def __str__(self) -> str:\r\n",
    "        return f\"I am a fox, my name is {self.name}, my sound is weird\"\r\n",
    "    def speak(self):\r\n",
    "        return f\"Fox says...\"\r\n",
    "        #return NotImplemented #What does the fox say\r\n",
    "\r\n",
    "animals =  (fish(\"wanda\"), fox(\"Ylvis\"))\r\n",
    "\r\n",
    "for animal in animals:\r\n",
    "    print(animal)\r\n",
    "    animal.speak()"
   ],
   "outputs": [
    {
     "output_type": "stream",
     "name": "stdout",
     "text": [
      "I am a fish, my name is wanda\n",
      "Blupp blupp\n",
      "I am a fox, my name is Ylvis, my sound is weird\n"
     ]
    }
   ],
   "metadata": {}
  },
  {
   "cell_type": "markdown",
   "source": [
    "# polymorphism in inheritance"
   ],
   "metadata": {}
  },
  {
   "cell_type": "code",
   "execution_count": 3,
   "source": [
    "class animal:\r\n",
    "    #will run a default init\r\n",
    "    def speak(self):\r\n",
    "        print(\"Hello i am animal\")\r\n",
    "\r\n",
    "class fish(animal):\r\n",
    "    def __init__(self, name) -> None:\r\n",
    "        self.name = name\r\n",
    "\r\n",
    "    def __str__(self):\r\n",
    "        return f\"I am a fish, my name is {self.name}\"\r\n",
    "    \r\n",
    "    def speak(self):\r\n",
    "        print(\"Blupp blupp\")\r\n",
    "\r\n",
    "\r\n",
    "class fox(animal): # fox extends or inherits from animal\r\n",
    "    def __init__(self,name) -> None:\r\n",
    "        self.name = name\r\n",
    "    def __str__(self) -> str:\r\n",
    "        return f\"I am a fox, my name is {self.name}, my sound is weird\"\r\n",
    "    # def speak(self):\r\n",
    "    #     return f\"Fox says...\"\r\n",
    "        #return NotImplemented #What does the fox say\r\n",
    "\r\n",
    "animals =  (fish(\"wanda\"), fox(\"Ylvis\"))\r\n",
    "\r\n",
    "for animal in animals:\r\n",
    "    print(animal)\r\n",
    "    animal.speak()"
   ],
   "outputs": [
    {
     "output_type": "stream",
     "name": "stdout",
     "text": [
      "I am a fish, my name is wanda\n",
      "Blupp blupp\n",
      "I am a fox, my name is Ylvis, my sound is weird\n",
      "Hello i am animal\n"
     ]
    }
   ],
   "metadata": {}
  },
  {
   "cell_type": "markdown",
   "source": [
    "# operator overloading\r\n",
    "- +, -, /, //, %, >, <\r\n",
    "- see vector example"
   ],
   "metadata": {}
  }
 ],
 "metadata": {
  "orig_nbformat": 4,
  "language_info": {
   "name": "python",
   "version": "3.9.7",
   "mimetype": "text/x-python",
   "codemirror_mode": {
    "name": "ipython",
    "version": 3
   },
   "pygments_lexer": "ipython3",
   "nbconvert_exporter": "python",
   "file_extension": ".py"
  },
  "kernelspec": {
   "name": "python3",
   "display_name": "Python 3.9.7 64-bit ('python-programmering-LukasKallstrom-az359LF-': pipenv)"
  },
  "interpreter": {
   "hash": "f6559a078d0646459de2a810a6153f3a088abdfb0a4233823ce3deb6d84cdd34"
  }
 },
 "nbformat": 4,
 "nbformat_minor": 2
}