{
 "cells": [
  {
   "cell_type": "code",
   "execution_count": 9,
   "source": [
    "def cube(number):\r\n",
    "    return number**3\r\n",
    "\r\n",
    "print(f\"cube(3): {cube(3)}\")\r\n",
    "\r\n",
    "cube5 = cube(5)\r\n",
    "\r\n",
    "print(cube5)\r\n",
    "\r\n",
    "cubes = [cube(x) for x in range(10)]\r\n",
    "print(cubes)\r\n",
    "\r\n"
   ],
   "outputs": [
    {
     "output_type": "stream",
     "name": "stdout",
     "text": [
      "cube(3): 27\n",
      "125\n",
      "[0, 1, 8, 27, 64, 125, 216, 343, 512, 729]\n"
     ]
    }
   ],
   "metadata": {}
  },
  {
   "cell_type": "code",
   "execution_count": 11,
   "source": [
    "def mean1(num1, num2, num3):\r\n",
    "    mean = (num1+num2+num3)/3\r\n",
    "    return mean\r\n",
    "\r\n",
    "\r\n",
    "print(f\"mean1(1,3,5): {mean1(1,3,5)}\")"
   ],
   "outputs": [
    {
     "output_type": "stream",
     "name": "stdout",
     "text": [
      "mean1(1,3,5): 3.0\n"
     ]
    }
   ],
   "metadata": {}
  },
  {
   "cell_type": "markdown",
   "source": [
    "## Default values"
   ],
   "metadata": {}
  },
  {
   "cell_type": "code",
   "execution_count": 17,
   "source": [
    "def say_hi(name = \"Friend\", age = 0): #Function without a return value\r\n",
    "    print(f\"{name}, {age}\")\r\n",
    "\r\n",
    "say_hi(\"Lukas\", 21) # Default values are overwritten\r\n",
    "say_hi() # Default values \"Friend\" and 0 are used\r\n",
    "say_hi(age=30)"
   ],
   "outputs": [
    {
     "output_type": "stream",
     "name": "stdout",
     "text": [
      "Lukas, 21\n",
      "Friend, 0\n",
      "Friend, 30\n"
     ]
    }
   ],
   "metadata": {}
  },
  {
   "cell_type": "markdown",
   "source": [
    "## Keyword arguments\r\n",
    "- key = value syntax"
   ],
   "metadata": {}
  },
  {
   "cell_type": "code",
   "execution_count": 21,
   "source": [
    "def count_words(text = \"\"):\r\n",
    "    words = text.split()\r\n",
    "    return len(words)\r\n",
    "print(count_words(\"I stand on the shoulders of giants - Isaac Newton\"))\r\n",
    "print(count_words())"
   ],
   "outputs": [
    {
     "output_type": "stream",
     "name": "stdout",
     "text": [
      "10\n",
      "0\n"
     ]
    }
   ],
   "metadata": {}
  }
 ],
 "metadata": {
  "orig_nbformat": 4,
  "language_info": {
   "name": "python",
   "version": "3.9.6",
   "mimetype": "text/x-python",
   "codemirror_mode": {
    "name": "ipython",
    "version": 3
   },
   "pygments_lexer": "ipython3",
   "nbconvert_exporter": "python",
   "file_extension": ".py"
  },
  "kernelspec": {
   "name": "python3",
   "display_name": "Python 3.9.6 64-bit ('python-programmering-LukasKallstrom-luee7lEl': pipenv)"
  },
  "interpreter": {
   "hash": "cdff0bf2e99ce0da2545e0928d541d18e5bc08e21cf263536836a8f75edf8e16"
  }
 },
 "nbformat": 4,
 "nbformat_minor": 2
}