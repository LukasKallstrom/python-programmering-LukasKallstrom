{
 "cells": [
  {
   "cell_type": "markdown",
   "source": [
    "# Lists"
   ],
   "metadata": {}
  },
  {
   "cell_type": "code",
   "execution_count": 13,
   "source": [
    "tv_shows = ['Antikrundan', 'Mästerkockarna', 'Aktuellt', 'Talang']\r\n",
    "\r\n",
    "# access items  - [] operator\r\n",
    "\r\n",
    "print(f'tv_shows[0] = {tv_shows[0]}')\r\n",
    "print(f'tv_shows[1] = {tv_shows[1]}')\r\n",
    "print(f'tv_shows[-1] = {tv_shows[-1]}')\r\n",
    "\r\n",
    "# slicing operator - : operatorn\r\n",
    "print(f'tv_shows[:] = {tv_shows[:]}')\r\n",
    "print(f'tv_shows[1:] = {tv_shows[1:]}') # starts in index 1 and \"goes\" to the end\r\n",
    "print(f'tv_shows[1:3] = {tv_shows[1:3]}') # note [start:end-1]\r\n",
    "print(f'backwards tv_shows[::-1] = {tv_shows[::-1]}') # [start:end-1:step]\r\n"
   ],
   "outputs": [
    {
     "output_type": "stream",
     "name": "stdout",
     "text": [
      "tv_shows[0] = Antikrundan\n",
      "tv_shows[1] = Mästerkockarna\n",
      "tv_shows[-1] = Talang\n",
      "tv_shows[:] = ['Antikrundan', 'Mästerkockarna', 'Aktuellt', 'Talang']\n",
      "tv_shows[1:] = ['Mästerkockarna', 'Aktuellt', 'Talang']\n",
      "tv_shows[1:3] = ['Mästerkockarna', 'Aktuellt']\n",
      "backwards tv_shows[::-1] = ['Talang', 'Aktuellt', 'Mästerkockarna', 'Antikrundan']\n"
     ]
    }
   ],
   "metadata": {}
  },
  {
   "cell_type": "code",
   "execution_count": 20,
   "source": [
    "# Change list items\r\n",
    "tv_shows = ['Antikrundan', 'Mästerkockarna', 'Aktuellt', 'Talang']\r\n",
    "tv_shows[0] = \"Vetenskapens värld\"\r\n",
    "print(tv_shows)\r\n",
    "\r\n",
    "# add an item to the list\r\n",
    "tv_shows.append(\"Go' kväll\")\r\n",
    "print(tv_shows)\r\n",
    "\r\n"
   ],
   "outputs": [
    {
     "output_type": "stream",
     "name": "stdout",
     "text": [
      "['Vetenskapens värld', 'Mästerkockarna', 'Aktuellt', 'Talang']\n",
      "['Vetenskapens värld', 'Mästerkockarna', 'Aktuellt', 'Talang', \"Go' kväll\"]\n"
     ]
    }
   ],
   "metadata": {}
  },
  {
   "cell_type": "markdown",
   "source": [
    "# Iterate through lists"
   ],
   "metadata": {}
  },
  {
   "cell_type": "code",
   "execution_count": 25,
   "source": [
    "print('Tv tablå')\r\n",
    "for i, show in enumerate(tv_shows):\r\n",
    "    print(f'{i}: {show}')\r\n"
   ],
   "outputs": [
    {
     "output_type": "stream",
     "name": "stdout",
     "text": [
      "Tv tablå\n",
      "0: Vetenskapens värld\n",
      "1: Mästerkockarna\n",
      "2: Aktuellt\n",
      "3: Talang\n",
      "4: Go' kväll\n"
     ]
    }
   ],
   "metadata": {}
  },
  {
   "cell_type": "code",
   "execution_count": 29,
   "source": [
    "# List of cubes\r\n",
    "\r\n",
    "cubes = []\r\n",
    "\r\n",
    "for i in range(10):\r\n",
    "    cubes.append(i**3)\r\n",
    "\r\n",
    "print(cubes)"
   ],
   "outputs": [
    {
     "output_type": "stream",
     "name": "stdout",
     "text": [
      "[0, 1, 8, 27, 64, 125, 216, 343, 512, 729]\n"
     ]
    }
   ],
   "metadata": {}
  },
  {
   "cell_type": "code",
   "execution_count": 32,
   "source": [
    "# List comprehensions\r\n",
    "cubes2 = [x**3 for x in range(10)]\r\n",
    "print(cubes)\r\n"
   ],
   "outputs": [
    {
     "output_type": "stream",
     "name": "stdout",
     "text": [
      "[0, 1, 8, 27, 64, 125, 216, 343, 512, 729]\n"
     ]
    }
   ],
   "metadata": {}
  },
  {
   "cell_type": "code",
   "execution_count": 115,
   "source": [
    "import random as rnd\r\n",
    "\r\n",
    "dices = [rnd.randint(1,6) for _ in range(10)]\r\n",
    "print(dices)\r\n",
    "\r\n",
    "dices.sort() # returns none\r\n",
    "print(dices)"
   ],
   "outputs": [
    {
     "output_type": "stream",
     "name": "stdout",
     "text": [
      "[3, 5, 2, 1, 3, 5, 4, 2, 2, 1]\n",
      "[1, 1, 2, 2, 2, 3, 3, 4, 5, 5]\n"
     ]
    }
   ],
   "metadata": {}
  },
  {
   "cell_type": "code",
   "execution_count": 116,
   "source": [
    "tv_shows = ['Äta', 'Vetenskapens värld', 'Mästerkockarna', 'Aktuellt', 'Talang', \"Go' kväll\"]\r\n",
    "print(tv_shows)\r\n",
    "\r\n",
    "tv_shows.sort() # sort works for digits, works for str, but not a mix of datatypes\r\n",
    "print(tv_shows)\r\n",
    "\r\n",
    "tv_shows.sort(reverse=True)\r\n",
    "print(tv_shows)\r\n"
   ],
   "outputs": [
    {
     "output_type": "stream",
     "name": "stdout",
     "text": [
      "['Äta', 'Vetenskapens värld', 'Mästerkockarna', 'Aktuellt', 'Talang', \"Go' kväll\"]\n",
      "['Aktuellt', \"Go' kväll\", 'Mästerkockarna', 'Talang', 'Vetenskapens värld', 'Äta']\n",
      "['Äta', 'Vetenskapens värld', 'Talang', 'Mästerkockarna', \"Go' kväll\", 'Aktuellt']\n"
     ]
    }
   ],
   "metadata": {}
  },
  {
   "cell_type": "markdown",
   "source": [
    "# Tuples"
   ],
   "metadata": {}
  },
  {
   "cell_type": "code",
   "execution_count": 119,
   "source": [
    "example_tuple = (1,2,3)\r\n",
    "example_tuple[2]"
   ],
   "outputs": [
    {
     "output_type": "execute_result",
     "data": {
      "text/plain": [
       "3"
      ]
     },
     "metadata": {},
     "execution_count": 119
    }
   ],
   "metadata": {}
  },
  {
   "cell_type": "markdown",
   "source": [
    "# List in a list"
   ],
   "metadata": {}
  },
  {
   "cell_type": "code",
   "execution_count": 126,
   "source": [
    "grades = [['a', 30], ['b', 25], ['c', 20]]\r\n",
    "print(f'grades[1]: {grades[1]}')\r\n",
    "print(f'grades[1][0]: {grades[1][0]}')\r\n"
   ],
   "outputs": [
    {
     "output_type": "stream",
     "name": "stdout",
     "text": [
      "grades[1]: ['b', 25]\n",
      "grades[1][0]: b\n"
     ]
    }
   ],
   "metadata": {}
  }
 ],
 "metadata": {
  "orig_nbformat": 4,
  "language_info": {
   "name": "python",
   "version": "3.9.6",
   "mimetype": "text/x-python",
   "codemirror_mode": {
    "name": "ipython",
    "version": 3
   },
   "pygments_lexer": "ipython3",
   "nbconvert_exporter": "python",
   "file_extension": ".py"
  },
  "kernelspec": {
   "name": "python3",
   "display_name": "Python 3.9.6 64-bit ('python-programmering-LukasKallstrom-luee7lEl': pipenv)"
  },
  "interpreter": {
   "hash": "cdff0bf2e99ce0da2545e0928d541d18e5bc08e21cf263536836a8f75edf8e16"
  }
 },
 "nbformat": 4,
 "nbformat_minor": 2
}